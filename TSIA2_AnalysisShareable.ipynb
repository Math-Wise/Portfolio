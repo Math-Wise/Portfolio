{
  "nbformat": 4,
  "nbformat_minor": 0,
  "metadata": {
    "colab": {
      "provenance": []
    },
    "kernelspec": {
      "name": "python3",
      "display_name": "Python 3"
    },
    "language_info": {
      "name": "python"
    }
  },
  "cells": [
    {
      "cell_type": "markdown",
      "source": [
        "<center> <h1>TSIA2 Data Analysis (Shareable)</h1>\n",
        "\n",
        "**All personally identifible data has been removed from the data set are replaced with random names or values.**\n",
        "\n",
        "<p float=\"center\">\n",
        "  <img src=data:image/jpeg;base64,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 width=\"200\" />\n",
        "\n",
        "  <img src=\"https://resources.finalsite.net/images/f_auto,q_auto/v1588075884/austinachieveorg/yyrk9hzs9zvksxzpzwkj/AustinAchieveLogo_ColorCorrected.eps\" width=\"300\"/>\n",
        "</p></center>\n",
        "\n"
      ],
      "metadata": {
        "id": "_LVWi8xpchSI"
      }
    },
    {
      "cell_type": "markdown",
      "source": [
        "---\n",
        "\n",
        "**Analysis by:** Wyatte C. Hooper\n",
        "\n",
        "**Analysis on:** November 21, 2023\n",
        "\n",
        "# Analysis Report"
      ],
      "metadata": {
        "id": "e04_7TrSeXcU"
      }
    },
    {
      "cell_type": "markdown",
      "source": [
        "<h2>Table of Context</h2>\n",
        "\n",
        "---\n",
        "\n",
        "\n",
        "1. TSIA2 Exam Details\n",
        "2. Loading and Cleaning the Data\n",
        "3. Descriptive Analysis\n",
        "4. Missing Scores\n",
        "5. Passing Scores\n",
        "6. Score Distribution\n",
        "7. Scores by Objective\n",
        "8. Conclusion\n",
        "\n"
      ],
      "metadata": {
        "id": "NNuQhoxYfDTJ"
      }
    },
    {
      "cell_type": "markdown",
      "source": [
        "## 1) TSIA2 Exam Details\n",
        "---"
      ],
      "metadata": {
        "id": "xWUu4JWUfTqg"
      }
    },
    {
      "cell_type": "markdown",
      "source": [
        "<h2> TSIA2 Information </h2>\n",
        "The Texas Assessment Initiative Assessment 2.0 (TSIA2)\n",
        "is the assessment instrument used to determine college\n",
        "readiness for non-exempt high school students, as required by the\n",
        "Texas Success Initiative. TSIA2 helps determine whether\n",
        "you’re ready for college-level coursework in English\n",
        "language arts and reading (ELAR) and mathematics.\n",
        "\n",
        "The tests in TSIA2 either certify you as “college ready” in a subject area or provide a diagnostic profile regarding your academic strengths and weaknesses so that targeted instruction may be provided to help you succeed in college-level courses. TSIA2 contains multiple-choice questions aligned to Texas College and Career Readiness Standards, Texas Essential\n",
        "Knowledge and Skills, Adult Education and Literacy Content Standards 2.0, and National Reporting System Educational Functioning Levels. The ELAR Test also contains an essay component you must complete to be considered college ready in ELAR. Here are more details about TSIA2:\n",
        "\n",
        "* Multiple-choice tests in TSIA2 are computer adaptive,\n",
        "which means that questions increase or decrease in\n",
        "difficulty depending on how you respond.\n",
        "\n",
        "* The assessments are untimed, which means there’s no\n",
        "time limit on how long you can take to complete testing.\n",
        "\n",
        "* In most cases, TSIA2 provides results upon completion. When you complete the assessment, you immediately receive a score report.\n",
        "\n",
        "*  The “save and finish later” option lets you stop at certain times during your test session. If you select this option, you must return and complete the remaining assessment within 14 calendar days. This option isn’t available for the TSIA2 Essay Test, which must be started and completed in the same session.\n",
        "\n",
        "**Passing Scores**\n",
        "* Students need to score a 945 on the ELAR exam or a 5 on the ELAR Diagnostic to pass.\n",
        "* Students need a 5 on the essay to pass.\n",
        "* Students need to score a 950 on the Math exam or a 6 on the Math Diagnostic.\n",
        "\n",
        "\n",
        "<h3>Testing at Achieve</h3>\n",
        "\n",
        "Students taking TSIA2 at Achieve usually do so over two four hour days.  On the first day students take a 30 question multible choice test on ELAR.  If they do not pass then they are taken to a 48 question multible choice diagnostic test for ELAR. Then students complete the Essay portion of the exam.  \n",
        "\n",
        "On the second day students take a 20 question multible choice test for math.  If students do not pass then they take a 48 question diagnostic test for math.\n"
      ],
      "metadata": {
        "id": "R2z7WC9WfqhC"
      }
    },
    {
      "cell_type": "markdown",
      "source": [
        "<h2>Key Questions:</h2>\n",
        "\n",
        "* How many scholars are missing one or more sections?\n",
        "* How many scholars have passed each section?\n",
        "* How have the different grade levels preformed on the sections?\n",
        "* In the diagnostic test, what objectives are scholars preforming well in? What objectives are scholars struggling in?\n",
        "* How many scholars have failed the first multible choice test, but passed the diagnostic?\n"
      ],
      "metadata": {
        "id": "Abb-oNSFT1Tm"
      }
    },
    {
      "cell_type": "markdown",
      "source": [
        "## 2) Load and Clean Data\n",
        "---"
      ],
      "metadata": {
        "id": "RkvkumJEfJj_"
      }
    },
    {
      "cell_type": "code",
      "execution_count": null,
      "metadata": {
        "colab": {
          "base_uri": "https://localhost:8080/"
        },
        "id": "pulHBlZPWXth",
        "outputId": "9c950d23-55cb-4092-957c-98590f386bee"
      },
      "outputs": [
        {
          "output_type": "stream",
          "name": "stdout",
          "text": [
            "Mounted at /content/drive\n"
          ]
        }
      ],
      "source": [
        "#Libraries used\n",
        "import numpy as np\n",
        "import pandas as pd\n",
        "import matplotlib.pyplot as plt\n",
        "import seaborn as sns\n",
        "from matplotlib_venn import venn3, venn3_circles\n",
        "\n",
        "#Access File Stored in Drive\n",
        "from google.colab import drive\n",
        "drive.mount('/content/drive')"
      ]
    },
    {
      "cell_type": "code",
      "source": [
        "#Loads File from MyDrive\n",
        "df = pd.read_csv('/content/drive/MyDrive/Achieve/TSI2/November2023/Shareable/TSIA2DataSharable.csv')\n",
        "\n",
        "#Changes ID columns to type string\n",
        "df['SR ID'] = df['SR ID'].astype(str)\n",
        "df['TSDS'] = df['TSDS'].astype(str)"
      ],
      "metadata": {
        "id": "TZcGp9JTWkpn"
      },
      "execution_count": null,
      "outputs": []
    },
    {
      "cell_type": "markdown",
      "source": [
        "**Shape**\n",
        "\n",
        "We will start to make sure everything loaded right by grabbing the number of rows and columns in our data set.  We will also be able to use these values later in the analysis."
      ],
      "metadata": {
        "id": "mufEQuQcs8dC"
      }
    },
    {
      "cell_type": "code",
      "source": [
        "#Gets the number of rows and columns in the dataset\n",
        "rows = df.shape[0]\n",
        "columns = df.shape[1]\n",
        "print(f'There are {rows} scholars in the dataset and {columns} data points per a scholar.')"
      ],
      "metadata": {
        "id": "3JTJ7mZBvpqb",
        "colab": {
          "base_uri": "https://localhost:8080/"
        },
        "outputId": "1d652a10-269b-40d1-cbfa-c6d0f09a5f2d"
      },
      "execution_count": null,
      "outputs": [
        {
          "output_type": "stream",
          "name": "stdout",
          "text": [
            "There are 615 scholars in the dataset and 16 data points per a scholar.\n"
          ]
        }
      ]
    },
    {
      "cell_type": "markdown",
      "source": [
        "**Data Types**\n",
        "\n",
        "Now we want to check the type of each variable and how many non-null entries each variable has."
      ],
      "metadata": {
        "id": "3_5G0CqxtDs8"
      }
    },
    {
      "cell_type": "code",
      "source": [
        "#prints info on the varibles in our dataset\n",
        "df.info()"
      ],
      "metadata": {
        "colab": {
          "base_uri": "https://localhost:8080/"
        },
        "id": "w-FMRKjPZsFf",
        "outputId": "4fe345ce-d8e1-4219-84e8-8ca27fa3fd1b"
      },
      "execution_count": null,
      "outputs": [
        {
          "output_type": "stream",
          "name": "stdout",
          "text": [
            "<class 'pandas.core.frame.DataFrame'>\n",
            "RangeIndex: 615 entries, 0 to 614\n",
            "Data columns (total 16 columns):\n",
            " #   Column                                                Non-Null Count  Dtype  \n",
            "---  ------                                                --------------  -----  \n",
            " 0   SR ID                                                 615 non-null    object \n",
            " 1   TSDS                                                  615 non-null    object \n",
            " 2   First                                                 615 non-null    object \n",
            " 3   Last                                                  615 non-null    object \n",
            " 4   Grade                                                 615 non-null    int64  \n",
            " 5   ELAR                                                  585 non-null    float64\n",
            " 6   ELAR Diagnostic                                       511 non-null    float64\n",
            " 7   ELAR -Text Analysis and Synthesis                     511 non-null    object \n",
            " 8   ELAR - Content Revision and Editing for Conventions.  511 non-null    object \n",
            " 9   Essay                                                 372 non-null    float64\n",
            " 10  Math                                                  604 non-null    float64\n",
            " 11  Math Diagnostic                                       566 non-null    float64\n",
            " 12  Math - Quantitative Reasoning                         566 non-null    object \n",
            " 13  Math - Algebraic Reasoning                            566 non-null    object \n",
            " 14  Math - Geometric and Spatial Reasoning                566 non-null    object \n",
            " 15  Math - Probabilistic and Statistical Reasoning        566 non-null    object \n",
            "dtypes: float64(5), int64(1), object(10)\n",
            "memory usage: 77.0+ KB\n"
          ]
        }
      ]
    },
    {
      "cell_type": "markdown",
      "source": [
        "**Observations:**\n",
        "* There are no null values in SR ID, TSDS, First, Last, and Grade.\n",
        "* Every variable has atleast 80% non null values except Essay which has 60.5% (372/615) non-null values."
      ],
      "metadata": {
        "id": "O9qAAdMHMF-t"
      }
    },
    {
      "cell_type": "markdown",
      "source": [
        "**Quick Check**\n",
        "\n",
        "By printing off the first five rows, we can do a quick check to make sure everything looks right.  As we can see the columns are labeled properly and the data looks like we would expect it to."
      ],
      "metadata": {
        "id": "P_M3sJOdtV0S"
      }
    },
    {
      "cell_type": "code",
      "source": [
        "#prints first five rows\n",
        "df.head()"
      ],
      "metadata": {
        "colab": {
          "base_uri": "https://localhost:8080/",
          "height": 365
        },
        "id": "B3p9nZcYjzux",
        "outputId": "ac7118ce-78b5-42fe-f770-b3f41d242c51"
      },
      "execution_count": null,
      "outputs": [
        {
          "output_type": "execute_result",
          "data": {
            "text/plain": [
              "  SR ID TSDS   First       Last  Grade   ELAR  ELAR Diagnostic  \\\n",
              "0     1    1    Troy    Coleman     12  926.0              3.0   \n",
              "1     2    2  Freddy      Ponce     12  940.0              4.0   \n",
              "2     3    3  Victor     Ingram     12  944.0              5.0   \n",
              "3     4    4  Halima  Cervantes     12  940.0              5.0   \n",
              "4     5    5   Edgar     Bright     12  937.0              4.0   \n",
              "\n",
              "  ELAR -Text Analysis and Synthesis  \\\n",
              "0                           1-Basic   \n",
              "1                      2-Proficient   \n",
              "2                        3-Advanced   \n",
              "3                        3-Advanced   \n",
              "4                      2-Proficient   \n",
              "\n",
              "  ELAR - Content Revision and Editing for Conventions.  Essay   Math  \\\n",
              "0                                            1-Basic      4.0  921.0   \n",
              "1                                       2-Proficient      4.0  938.0   \n",
              "2                                         3-Advanced      5.0  953.0   \n",
              "3                                       2-Proficient      5.0  950.0   \n",
              "4                                       2-Proficient      5.0  933.0   \n",
              "\n",
              "   Math Diagnostic Math - Quantitative Reasoning Math - Algebraic Reasoning  \\\n",
              "0              3.0                  2-Proficient                    1-Basic   \n",
              "1              5.0                       1-Basic                    1-Basic   \n",
              "2              NaN                           NaN                        NaN   \n",
              "3              4.0                       1-Basic                    1-Basic   \n",
              "4              4.0                  2-Proficient                    1-Basic   \n",
              "\n",
              "  Math - Geometric and Spatial Reasoning  \\\n",
              "0                                1-Basic   \n",
              "1                           2-Proficient   \n",
              "2                                    NaN   \n",
              "3                                1-Basic   \n",
              "4                                1-Basic   \n",
              "\n",
              "  Math - Probabilistic and Statistical Reasoning  \n",
              "0                                        1-Basic  \n",
              "1                                   2-Proficient  \n",
              "2                                            NaN  \n",
              "3                                        1-Basic  \n",
              "4                                        1-Basic  "
            ],
            "text/html": [
              "\n",
              "  <div id=\"df-78d677da-70e5-44ea-b8cb-c1b60e253862\" class=\"colab-df-container\">\n",
              "    <div>\n",
              "<style scoped>\n",
              "    .dataframe tbody tr th:only-of-type {\n",
              "        vertical-align: middle;\n",
              "    }\n",
              "\n",
              "    .dataframe tbody tr th {\n",
              "        vertical-align: top;\n",
              "    }\n",
              "\n",
              "    .dataframe thead th {\n",
              "        text-align: right;\n",
              "    }\n",
              "</style>\n",
              "<table border=\"1\" class=\"dataframe\">\n",
              "  <thead>\n",
              "    <tr style=\"text-align: right;\">\n",
              "      <th></th>\n",
              "      <th>SR ID</th>\n",
              "      <th>TSDS</th>\n",
              "      <th>First</th>\n",
              "      <th>Last</th>\n",
              "      <th>Grade</th>\n",
              "      <th>ELAR</th>\n",
              "      <th>ELAR Diagnostic</th>\n",
              "      <th>ELAR -Text Analysis and Synthesis</th>\n",
              "      <th>ELAR - Content Revision and Editing for Conventions.</th>\n",
              "      <th>Essay</th>\n",
              "      <th>Math</th>\n",
              "      <th>Math Diagnostic</th>\n",
              "      <th>Math - Quantitative Reasoning</th>\n",
              "      <th>Math - Algebraic Reasoning</th>\n",
              "      <th>Math - Geometric and Spatial Reasoning</th>\n",
              "      <th>Math - Probabilistic and Statistical Reasoning</th>\n",
              "    </tr>\n",
              "  </thead>\n",
              "  <tbody>\n",
              "    <tr>\n",
              "      <th>0</th>\n",
              "      <td>1</td>\n",
              "      <td>1</td>\n",
              "      <td>Troy</td>\n",
              "      <td>Coleman</td>\n",
              "      <td>12</td>\n",
              "      <td>926.0</td>\n",
              "      <td>3.0</td>\n",
              "      <td>1-Basic</td>\n",
              "      <td>1-Basic</td>\n",
              "      <td>4.0</td>\n",
              "      <td>921.0</td>\n",
              "      <td>3.0</td>\n",
              "      <td>2-Proficient</td>\n",
              "      <td>1-Basic</td>\n",
              "      <td>1-Basic</td>\n",
              "      <td>1-Basic</td>\n",
              "    </tr>\n",
              "    <tr>\n",
              "      <th>1</th>\n",
              "      <td>2</td>\n",
              "      <td>2</td>\n",
              "      <td>Freddy</td>\n",
              "      <td>Ponce</td>\n",
              "      <td>12</td>\n",
              "      <td>940.0</td>\n",
              "      <td>4.0</td>\n",
              "      <td>2-Proficient</td>\n",
              "      <td>2-Proficient</td>\n",
              "      <td>4.0</td>\n",
              "      <td>938.0</td>\n",
              "      <td>5.0</td>\n",
              "      <td>1-Basic</td>\n",
              "      <td>1-Basic</td>\n",
              "      <td>2-Proficient</td>\n",
              "      <td>2-Proficient</td>\n",
              "    </tr>\n",
              "    <tr>\n",
              "      <th>2</th>\n",
              "      <td>3</td>\n",
              "      <td>3</td>\n",
              "      <td>Victor</td>\n",
              "      <td>Ingram</td>\n",
              "      <td>12</td>\n",
              "      <td>944.0</td>\n",
              "      <td>5.0</td>\n",
              "      <td>3-Advanced</td>\n",
              "      <td>3-Advanced</td>\n",
              "      <td>5.0</td>\n",
              "      <td>953.0</td>\n",
              "      <td>NaN</td>\n",
              "      <td>NaN</td>\n",
              "      <td>NaN</td>\n",
              "      <td>NaN</td>\n",
              "      <td>NaN</td>\n",
              "    </tr>\n",
              "    <tr>\n",
              "      <th>3</th>\n",
              "      <td>4</td>\n",
              "      <td>4</td>\n",
              "      <td>Halima</td>\n",
              "      <td>Cervantes</td>\n",
              "      <td>12</td>\n",
              "      <td>940.0</td>\n",
              "      <td>5.0</td>\n",
              "      <td>3-Advanced</td>\n",
              "      <td>2-Proficient</td>\n",
              "      <td>5.0</td>\n",
              "      <td>950.0</td>\n",
              "      <td>4.0</td>\n",
              "      <td>1-Basic</td>\n",
              "      <td>1-Basic</td>\n",
              "      <td>1-Basic</td>\n",
              "      <td>1-Basic</td>\n",
              "    </tr>\n",
              "    <tr>\n",
              "      <th>4</th>\n",
              "      <td>5</td>\n",
              "      <td>5</td>\n",
              "      <td>Edgar</td>\n",
              "      <td>Bright</td>\n",
              "      <td>12</td>\n",
              "      <td>937.0</td>\n",
              "      <td>4.0</td>\n",
              "      <td>2-Proficient</td>\n",
              "      <td>2-Proficient</td>\n",
              "      <td>5.0</td>\n",
              "      <td>933.0</td>\n",
              "      <td>4.0</td>\n",
              "      <td>2-Proficient</td>\n",
              "      <td>1-Basic</td>\n",
              "      <td>1-Basic</td>\n",
              "      <td>1-Basic</td>\n",
              "    </tr>\n",
              "  </tbody>\n",
              "</table>\n",
              "</div>\n",
              "    <div class=\"colab-df-buttons\">\n",
              "\n",
              "  <div class=\"colab-df-container\">\n",
              "    <button class=\"colab-df-convert\" onclick=\"convertToInteractive('df-78d677da-70e5-44ea-b8cb-c1b60e253862')\"\n",
              "            title=\"Convert this dataframe to an interactive table.\"\n",
              "            style=\"display:none;\">\n",
              "\n",
              "  <svg xmlns=\"http://www.w3.org/2000/svg\" height=\"24px\" viewBox=\"0 -960 960 960\">\n",
              "    <path d=\"M120-120v-720h720v720H120Zm60-500h600v-160H180v160Zm220 220h160v-160H400v160Zm0 220h160v-160H400v160ZM180-400h160v-160H180v160Zm440 0h160v-160H620v160ZM180-180h160v-160H180v160Zm440 0h160v-160H620v160Z\"/>\n",
              "  </svg>\n",
              "    </button>\n",
              "\n",
              "  <style>\n",
              "    .colab-df-container {\n",
              "      display:flex;\n",
              "      gap: 12px;\n",
              "    }\n",
              "\n",
              "    .colab-df-convert {\n",
              "      background-color: #E8F0FE;\n",
              "      border: none;\n",
              "      border-radius: 50%;\n",
              "      cursor: pointer;\n",
              "      display: none;\n",
              "      fill: #1967D2;\n",
              "      height: 32px;\n",
              "      padding: 0 0 0 0;\n",
              "      width: 32px;\n",
              "    }\n",
              "\n",
              "    .colab-df-convert:hover {\n",
              "      background-color: #E2EBFA;\n",
              "      box-shadow: 0px 1px 2px rgba(60, 64, 67, 0.3), 0px 1px 3px 1px rgba(60, 64, 67, 0.15);\n",
              "      fill: #174EA6;\n",
              "    }\n",
              "\n",
              "    .colab-df-buttons div {\n",
              "      margin-bottom: 4px;\n",
              "    }\n",
              "\n",
              "    [theme=dark] .colab-df-convert {\n",
              "      background-color: #3B4455;\n",
              "      fill: #D2E3FC;\n",
              "    }\n",
              "\n",
              "    [theme=dark] .colab-df-convert:hover {\n",
              "      background-color: #434B5C;\n",
              "      box-shadow: 0px 1px 3px 1px rgba(0, 0, 0, 0.15);\n",
              "      filter: drop-shadow(0px 1px 2px rgba(0, 0, 0, 0.3));\n",
              "      fill: #FFFFFF;\n",
              "    }\n",
              "  </style>\n",
              "\n",
              "    <script>\n",
              "      const buttonEl =\n",
              "        document.querySelector('#df-78d677da-70e5-44ea-b8cb-c1b60e253862 button.colab-df-convert');\n",
              "      buttonEl.style.display =\n",
              "        google.colab.kernel.accessAllowed ? 'block' : 'none';\n",
              "\n",
              "      async function convertToInteractive(key) {\n",
              "        const element = document.querySelector('#df-78d677da-70e5-44ea-b8cb-c1b60e253862');\n",
              "        const dataTable =\n",
              "          await google.colab.kernel.invokeFunction('convertToInteractive',\n",
              "                                                    [key], {});\n",
              "        if (!dataTable) return;\n",
              "\n",
              "        const docLinkHtml = 'Like what you see? Visit the ' +\n",
              "          '<a target=\"_blank\" href=https://colab.research.google.com/notebooks/data_table.ipynb>data table notebook</a>'\n",
              "          + ' to learn more about interactive tables.';\n",
              "        element.innerHTML = '';\n",
              "        dataTable['output_type'] = 'display_data';\n",
              "        await google.colab.output.renderOutput(dataTable, element);\n",
              "        const docLink = document.createElement('div');\n",
              "        docLink.innerHTML = docLinkHtml;\n",
              "        element.appendChild(docLink);\n",
              "      }\n",
              "    </script>\n",
              "  </div>\n",
              "\n",
              "\n",
              "<div id=\"df-84b1e012-2d33-4954-87e1-b592f36f53a5\">\n",
              "  <button class=\"colab-df-quickchart\" onclick=\"quickchart('df-84b1e012-2d33-4954-87e1-b592f36f53a5')\"\n",
              "            title=\"Suggest charts\"\n",
              "            style=\"display:none;\">\n",
              "\n",
              "<svg xmlns=\"http://www.w3.org/2000/svg\" height=\"24px\"viewBox=\"0 0 24 24\"\n",
              "     width=\"24px\">\n",
              "    <g>\n",
              "        <path d=\"M19 3H5c-1.1 0-2 .9-2 2v14c0 1.1.9 2 2 2h14c1.1 0 2-.9 2-2V5c0-1.1-.9-2-2-2zM9 17H7v-7h2v7zm4 0h-2V7h2v10zm4 0h-2v-4h2v4z\"/>\n",
              "    </g>\n",
              "</svg>\n",
              "  </button>\n",
              "\n",
              "<style>\n",
              "  .colab-df-quickchart {\n",
              "      --bg-color: #E8F0FE;\n",
              "      --fill-color: #1967D2;\n",
              "      --hover-bg-color: #E2EBFA;\n",
              "      --hover-fill-color: #174EA6;\n",
              "      --disabled-fill-color: #AAA;\n",
              "      --disabled-bg-color: #DDD;\n",
              "  }\n",
              "\n",
              "  [theme=dark] .colab-df-quickchart {\n",
              "      --bg-color: #3B4455;\n",
              "      --fill-color: #D2E3FC;\n",
              "      --hover-bg-color: #434B5C;\n",
              "      --hover-fill-color: #FFFFFF;\n",
              "      --disabled-bg-color: #3B4455;\n",
              "      --disabled-fill-color: #666;\n",
              "  }\n",
              "\n",
              "  .colab-df-quickchart {\n",
              "    background-color: var(--bg-color);\n",
              "    border: none;\n",
              "    border-radius: 50%;\n",
              "    cursor: pointer;\n",
              "    display: none;\n",
              "    fill: var(--fill-color);\n",
              "    height: 32px;\n",
              "    padding: 0;\n",
              "    width: 32px;\n",
              "  }\n",
              "\n",
              "  .colab-df-quickchart:hover {\n",
              "    background-color: var(--hover-bg-color);\n",
              "    box-shadow: 0 1px 2px rgba(60, 64, 67, 0.3), 0 1px 3px 1px rgba(60, 64, 67, 0.15);\n",
              "    fill: var(--button-hover-fill-color);\n",
              "  }\n",
              "\n",
              "  .colab-df-quickchart-complete:disabled,\n",
              "  .colab-df-quickchart-complete:disabled:hover {\n",
              "    background-color: var(--disabled-bg-color);\n",
              "    fill: var(--disabled-fill-color);\n",
              "    box-shadow: none;\n",
              "  }\n",
              "\n",
              "  .colab-df-spinner {\n",
              "    border: 2px solid var(--fill-color);\n",
              "    border-color: transparent;\n",
              "    border-bottom-color: var(--fill-color);\n",
              "    animation:\n",
              "      spin 1s steps(1) infinite;\n",
              "  }\n",
              "\n",
              "  @keyframes spin {\n",
              "    0% {\n",
              "      border-color: transparent;\n",
              "      border-bottom-color: var(--fill-color);\n",
              "      border-left-color: var(--fill-color);\n",
              "    }\n",
              "    20% {\n",
              "      border-color: transparent;\n",
              "      border-left-color: var(--fill-color);\n",
              "      border-top-color: var(--fill-color);\n",
              "    }\n",
              "    30% {\n",
              "      border-color: transparent;\n",
              "      border-left-color: var(--fill-color);\n",
              "      border-top-color: var(--fill-color);\n",
              "      border-right-color: var(--fill-color);\n",
              "    }\n",
              "    40% {\n",
              "      border-color: transparent;\n",
              "      border-right-color: var(--fill-color);\n",
              "      border-top-color: var(--fill-color);\n",
              "    }\n",
              "    60% {\n",
              "      border-color: transparent;\n",
              "      border-right-color: var(--fill-color);\n",
              "    }\n",
              "    80% {\n",
              "      border-color: transparent;\n",
              "      border-right-color: var(--fill-color);\n",
              "      border-bottom-color: var(--fill-color);\n",
              "    }\n",
              "    90% {\n",
              "      border-color: transparent;\n",
              "      border-bottom-color: var(--fill-color);\n",
              "    }\n",
              "  }\n",
              "</style>\n",
              "\n",
              "  <script>\n",
              "    async function quickchart(key) {\n",
              "      const quickchartButtonEl =\n",
              "        document.querySelector('#' + key + ' button');\n",
              "      quickchartButtonEl.disabled = true;  // To prevent multiple clicks.\n",
              "      quickchartButtonEl.classList.add('colab-df-spinner');\n",
              "      try {\n",
              "        const charts = await google.colab.kernel.invokeFunction(\n",
              "            'suggestCharts', [key], {});\n",
              "      } catch (error) {\n",
              "        console.error('Error during call to suggestCharts:', error);\n",
              "      }\n",
              "      quickchartButtonEl.classList.remove('colab-df-spinner');\n",
              "      quickchartButtonEl.classList.add('colab-df-quickchart-complete');\n",
              "    }\n",
              "    (() => {\n",
              "      let quickchartButtonEl =\n",
              "        document.querySelector('#df-84b1e012-2d33-4954-87e1-b592f36f53a5 button');\n",
              "      quickchartButtonEl.style.display =\n",
              "        google.colab.kernel.accessAllowed ? 'block' : 'none';\n",
              "    })();\n",
              "  </script>\n",
              "</div>\n",
              "    </div>\n",
              "  </div>\n"
            ]
          },
          "metadata": {},
          "execution_count": 5
        }
      ]
    },
    {
      "cell_type": "markdown",
      "source": [
        "## 3) Discriptive Student Data"
      ],
      "metadata": {
        "id": "82wMG5BeOpFd"
      }
    },
    {
      "cell_type": "markdown",
      "source": [
        "Our goal for this section is to describe the student who are in the data set and how scores correlate to each other."
      ],
      "metadata": {
        "id": "-hiz7hZuPPtC"
      }
    },
    {
      "cell_type": "markdown",
      "source": [
        "**Statistical Summary**\n",
        "\n",
        "Printing the statistical summary will give us the summary statistics for the quantitative variables.  This should give us a rough since of the distrabutions."
      ],
      "metadata": {
        "id": "okymjBL4thGH"
      }
    },
    {
      "cell_type": "code",
      "source": [
        "#prints statistical summary for all quantitative variables\n",
        "df.describe()"
      ],
      "metadata": {
        "colab": {
          "base_uri": "https://localhost:8080/",
          "height": 300
        },
        "id": "EOObeAojSbmv",
        "outputId": "7d179a9e-9018-4e74-aef5-d3f16c379117"
      },
      "execution_count": null,
      "outputs": [
        {
          "output_type": "execute_result",
          "data": {
            "text/plain": [
              "            Grade        ELAR  ELAR Diagnostic       Essay        Math  \\\n",
              "count  615.000000  585.000000       511.000000  372.000000  604.000000   \n",
              "mean    10.476423  930.793162         2.902153    4.569892  929.937086   \n",
              "std      1.115050   14.106734         0.897827    1.264466   14.016078   \n",
              "min      9.000000  910.000000         2.000000    0.000000  910.000000   \n",
              "25%      9.000000  920.000000         2.000000    4.000000  920.000000   \n",
              "50%     11.000000  931.000000         3.000000    5.000000  928.000000   \n",
              "75%     11.000000  941.000000         4.000000    5.000000  937.000000   \n",
              "max     12.000000  972.000000         5.000000    8.000000  990.000000   \n",
              "\n",
              "       Math Diagnostic  \n",
              "count       566.000000  \n",
              "mean          3.015901  \n",
              "std           1.010438  \n",
              "min           2.000000  \n",
              "25%           2.000000  \n",
              "50%           3.000000  \n",
              "75%           4.000000  \n",
              "max           6.000000  "
            ],
            "text/html": [
              "\n",
              "  <div id=\"df-df7635d0-5d8d-4baa-9c2a-0de47b024130\" class=\"colab-df-container\">\n",
              "    <div>\n",
              "<style scoped>\n",
              "    .dataframe tbody tr th:only-of-type {\n",
              "        vertical-align: middle;\n",
              "    }\n",
              "\n",
              "    .dataframe tbody tr th {\n",
              "        vertical-align: top;\n",
              "    }\n",
              "\n",
              "    .dataframe thead th {\n",
              "        text-align: right;\n",
              "    }\n",
              "</style>\n",
              "<table border=\"1\" class=\"dataframe\">\n",
              "  <thead>\n",
              "    <tr style=\"text-align: right;\">\n",
              "      <th></th>\n",
              "      <th>Grade</th>\n",
              "      <th>ELAR</th>\n",
              "      <th>ELAR Diagnostic</th>\n",
              "      <th>Essay</th>\n",
              "      <th>Math</th>\n",
              "      <th>Math Diagnostic</th>\n",
              "    </tr>\n",
              "  </thead>\n",
              "  <tbody>\n",
              "    <tr>\n",
              "      <th>count</th>\n",
              "      <td>615.000000</td>\n",
              "      <td>585.000000</td>\n",
              "      <td>511.000000</td>\n",
              "      <td>372.000000</td>\n",
              "      <td>604.000000</td>\n",
              "      <td>566.000000</td>\n",
              "    </tr>\n",
              "    <tr>\n",
              "      <th>mean</th>\n",
              "      <td>10.476423</td>\n",
              "      <td>930.793162</td>\n",
              "      <td>2.902153</td>\n",
              "      <td>4.569892</td>\n",
              "      <td>929.937086</td>\n",
              "      <td>3.015901</td>\n",
              "    </tr>\n",
              "    <tr>\n",
              "      <th>std</th>\n",
              "      <td>1.115050</td>\n",
              "      <td>14.106734</td>\n",
              "      <td>0.897827</td>\n",
              "      <td>1.264466</td>\n",
              "      <td>14.016078</td>\n",
              "      <td>1.010438</td>\n",
              "    </tr>\n",
              "    <tr>\n",
              "      <th>min</th>\n",
              "      <td>9.000000</td>\n",
              "      <td>910.000000</td>\n",
              "      <td>2.000000</td>\n",
              "      <td>0.000000</td>\n",
              "      <td>910.000000</td>\n",
              "      <td>2.000000</td>\n",
              "    </tr>\n",
              "    <tr>\n",
              "      <th>25%</th>\n",
              "      <td>9.000000</td>\n",
              "      <td>920.000000</td>\n",
              "      <td>2.000000</td>\n",
              "      <td>4.000000</td>\n",
              "      <td>920.000000</td>\n",
              "      <td>2.000000</td>\n",
              "    </tr>\n",
              "    <tr>\n",
              "      <th>50%</th>\n",
              "      <td>11.000000</td>\n",
              "      <td>931.000000</td>\n",
              "      <td>3.000000</td>\n",
              "      <td>5.000000</td>\n",
              "      <td>928.000000</td>\n",
              "      <td>3.000000</td>\n",
              "    </tr>\n",
              "    <tr>\n",
              "      <th>75%</th>\n",
              "      <td>11.000000</td>\n",
              "      <td>941.000000</td>\n",
              "      <td>4.000000</td>\n",
              "      <td>5.000000</td>\n",
              "      <td>937.000000</td>\n",
              "      <td>4.000000</td>\n",
              "    </tr>\n",
              "    <tr>\n",
              "      <th>max</th>\n",
              "      <td>12.000000</td>\n",
              "      <td>972.000000</td>\n",
              "      <td>5.000000</td>\n",
              "      <td>8.000000</td>\n",
              "      <td>990.000000</td>\n",
              "      <td>6.000000</td>\n",
              "    </tr>\n",
              "  </tbody>\n",
              "</table>\n",
              "</div>\n",
              "    <div class=\"colab-df-buttons\">\n",
              "\n",
              "  <div class=\"colab-df-container\">\n",
              "    <button class=\"colab-df-convert\" onclick=\"convertToInteractive('df-df7635d0-5d8d-4baa-9c2a-0de47b024130')\"\n",
              "            title=\"Convert this dataframe to an interactive table.\"\n",
              "            style=\"display:none;\">\n",
              "\n",
              "  <svg xmlns=\"http://www.w3.org/2000/svg\" height=\"24px\" viewBox=\"0 -960 960 960\">\n",
              "    <path d=\"M120-120v-720h720v720H120Zm60-500h600v-160H180v160Zm220 220h160v-160H400v160Zm0 220h160v-160H400v160ZM180-400h160v-160H180v160Zm440 0h160v-160H620v160ZM180-180h160v-160H180v160Zm440 0h160v-160H620v160Z\"/>\n",
              "  </svg>\n",
              "    </button>\n",
              "\n",
              "  <style>\n",
              "    .colab-df-container {\n",
              "      display:flex;\n",
              "      gap: 12px;\n",
              "    }\n",
              "\n",
              "    .colab-df-convert {\n",
              "      background-color: #E8F0FE;\n",
              "      border: none;\n",
              "      border-radius: 50%;\n",
              "      cursor: pointer;\n",
              "      display: none;\n",
              "      fill: #1967D2;\n",
              "      height: 32px;\n",
              "      padding: 0 0 0 0;\n",
              "      width: 32px;\n",
              "    }\n",
              "\n",
              "    .colab-df-convert:hover {\n",
              "      background-color: #E2EBFA;\n",
              "      box-shadow: 0px 1px 2px rgba(60, 64, 67, 0.3), 0px 1px 3px 1px rgba(60, 64, 67, 0.15);\n",
              "      fill: #174EA6;\n",
              "    }\n",
              "\n",
              "    .colab-df-buttons div {\n",
              "      margin-bottom: 4px;\n",
              "    }\n",
              "\n",
              "    [theme=dark] .colab-df-convert {\n",
              "      background-color: #3B4455;\n",
              "      fill: #D2E3FC;\n",
              "    }\n",
              "\n",
              "    [theme=dark] .colab-df-convert:hover {\n",
              "      background-color: #434B5C;\n",
              "      box-shadow: 0px 1px 3px 1px rgba(0, 0, 0, 0.15);\n",
              "      filter: drop-shadow(0px 1px 2px rgba(0, 0, 0, 0.3));\n",
              "      fill: #FFFFFF;\n",
              "    }\n",
              "  </style>\n",
              "\n",
              "    <script>\n",
              "      const buttonEl =\n",
              "        document.querySelector('#df-df7635d0-5d8d-4baa-9c2a-0de47b024130 button.colab-df-convert');\n",
              "      buttonEl.style.display =\n",
              "        google.colab.kernel.accessAllowed ? 'block' : 'none';\n",
              "\n",
              "      async function convertToInteractive(key) {\n",
              "        const element = document.querySelector('#df-df7635d0-5d8d-4baa-9c2a-0de47b024130');\n",
              "        const dataTable =\n",
              "          await google.colab.kernel.invokeFunction('convertToInteractive',\n",
              "                                                    [key], {});\n",
              "        if (!dataTable) return;\n",
              "\n",
              "        const docLinkHtml = 'Like what you see? Visit the ' +\n",
              "          '<a target=\"_blank\" href=https://colab.research.google.com/notebooks/data_table.ipynb>data table notebook</a>'\n",
              "          + ' to learn more about interactive tables.';\n",
              "        element.innerHTML = '';\n",
              "        dataTable['output_type'] = 'display_data';\n",
              "        await google.colab.output.renderOutput(dataTable, element);\n",
              "        const docLink = document.createElement('div');\n",
              "        docLink.innerHTML = docLinkHtml;\n",
              "        element.appendChild(docLink);\n",
              "      }\n",
              "    </script>\n",
              "  </div>\n",
              "\n",
              "\n",
              "<div id=\"df-44c4aa0e-3c7d-45d4-9590-d8b572871fe3\">\n",
              "  <button class=\"colab-df-quickchart\" onclick=\"quickchart('df-44c4aa0e-3c7d-45d4-9590-d8b572871fe3')\"\n",
              "            title=\"Suggest charts\"\n",
              "            style=\"display:none;\">\n",
              "\n",
              "<svg xmlns=\"http://www.w3.org/2000/svg\" height=\"24px\"viewBox=\"0 0 24 24\"\n",
              "     width=\"24px\">\n",
              "    <g>\n",
              "        <path d=\"M19 3H5c-1.1 0-2 .9-2 2v14c0 1.1.9 2 2 2h14c1.1 0 2-.9 2-2V5c0-1.1-.9-2-2-2zM9 17H7v-7h2v7zm4 0h-2V7h2v10zm4 0h-2v-4h2v4z\"/>\n",
              "    </g>\n",
              "</svg>\n",
              "  </button>\n",
              "\n",
              "<style>\n",
              "  .colab-df-quickchart {\n",
              "      --bg-color: #E8F0FE;\n",
              "      --fill-color: #1967D2;\n",
              "      --hover-bg-color: #E2EBFA;\n",
              "      --hover-fill-color: #174EA6;\n",
              "      --disabled-fill-color: #AAA;\n",
              "      --disabled-bg-color: #DDD;\n",
              "  }\n",
              "\n",
              "  [theme=dark] .colab-df-quickchart {\n",
              "      --bg-color: #3B4455;\n",
              "      --fill-color: #D2E3FC;\n",
              "      --hover-bg-color: #434B5C;\n",
              "      --hover-fill-color: #FFFFFF;\n",
              "      --disabled-bg-color: #3B4455;\n",
              "      --disabled-fill-color: #666;\n",
              "  }\n",
              "\n",
              "  .colab-df-quickchart {\n",
              "    background-color: var(--bg-color);\n",
              "    border: none;\n",
              "    border-radius: 50%;\n",
              "    cursor: pointer;\n",
              "    display: none;\n",
              "    fill: var(--fill-color);\n",
              "    height: 32px;\n",
              "    padding: 0;\n",
              "    width: 32px;\n",
              "  }\n",
              "\n",
              "  .colab-df-quickchart:hover {\n",
              "    background-color: var(--hover-bg-color);\n",
              "    box-shadow: 0 1px 2px rgba(60, 64, 67, 0.3), 0 1px 3px 1px rgba(60, 64, 67, 0.15);\n",
              "    fill: var(--button-hover-fill-color);\n",
              "  }\n",
              "\n",
              "  .colab-df-quickchart-complete:disabled,\n",
              "  .colab-df-quickchart-complete:disabled:hover {\n",
              "    background-color: var(--disabled-bg-color);\n",
              "    fill: var(--disabled-fill-color);\n",
              "    box-shadow: none;\n",
              "  }\n",
              "\n",
              "  .colab-df-spinner {\n",
              "    border: 2px solid var(--fill-color);\n",
              "    border-color: transparent;\n",
              "    border-bottom-color: var(--fill-color);\n",
              "    animation:\n",
              "      spin 1s steps(1) infinite;\n",
              "  }\n",
              "\n",
              "  @keyframes spin {\n",
              "    0% {\n",
              "      border-color: transparent;\n",
              "      border-bottom-color: var(--fill-color);\n",
              "      border-left-color: var(--fill-color);\n",
              "    }\n",
              "    20% {\n",
              "      border-color: transparent;\n",
              "      border-left-color: var(--fill-color);\n",
              "      border-top-color: var(--fill-color);\n",
              "    }\n",
              "    30% {\n",
              "      border-color: transparent;\n",
              "      border-left-color: var(--fill-color);\n",
              "      border-top-color: var(--fill-color);\n",
              "      border-right-color: var(--fill-color);\n",
              "    }\n",
              "    40% {\n",
              "      border-color: transparent;\n",
              "      border-right-color: var(--fill-color);\n",
              "      border-top-color: var(--fill-color);\n",
              "    }\n",
              "    60% {\n",
              "      border-color: transparent;\n",
              "      border-right-color: var(--fill-color);\n",
              "    }\n",
              "    80% {\n",
              "      border-color: transparent;\n",
              "      border-right-color: var(--fill-color);\n",
              "      border-bottom-color: var(--fill-color);\n",
              "    }\n",
              "    90% {\n",
              "      border-color: transparent;\n",
              "      border-bottom-color: var(--fill-color);\n",
              "    }\n",
              "  }\n",
              "</style>\n",
              "\n",
              "  <script>\n",
              "    async function quickchart(key) {\n",
              "      const quickchartButtonEl =\n",
              "        document.querySelector('#' + key + ' button');\n",
              "      quickchartButtonEl.disabled = true;  // To prevent multiple clicks.\n",
              "      quickchartButtonEl.classList.add('colab-df-spinner');\n",
              "      try {\n",
              "        const charts = await google.colab.kernel.invokeFunction(\n",
              "            'suggestCharts', [key], {});\n",
              "      } catch (error) {\n",
              "        console.error('Error during call to suggestCharts:', error);\n",
              "      }\n",
              "      quickchartButtonEl.classList.remove('colab-df-spinner');\n",
              "      quickchartButtonEl.classList.add('colab-df-quickchart-complete');\n",
              "    }\n",
              "    (() => {\n",
              "      let quickchartButtonEl =\n",
              "        document.querySelector('#df-44c4aa0e-3c7d-45d4-9590-d8b572871fe3 button');\n",
              "      quickchartButtonEl.style.display =\n",
              "        google.colab.kernel.accessAllowed ? 'block' : 'none';\n",
              "    })();\n",
              "  </script>\n",
              "</div>\n",
              "    </div>\n",
              "  </div>\n"
            ]
          },
          "metadata": {},
          "execution_count": 6
        }
      ]
    },
    {
      "cell_type": "markdown",
      "source": [
        "**Observations:**\n",
        "* The mean score for ELAR is similar to the median score.\n",
        "* For ELAR, a passing score is about 1 standard devitation above the mean.\n",
        "* The median and Q3 value for the Essay is both 5."
      ],
      "metadata": {
        "id": "ByL1Pjv8tqbH"
      }
    },
    {
      "cell_type": "markdown",
      "source": [
        "**Grade Level Count**"
      ],
      "metadata": {
        "id": "iK0KDknFx_hm"
      }
    },
    {
      "cell_type": "code",
      "source": [
        "#Creates a bar graph for the count of scholars in each grade level\n",
        "GradeLevelCount = sns.countplot(\n",
        "    data=df,\n",
        "    x='Grade'\n",
        ")\n",
        "\n",
        "#Labels bars with the count\n",
        "for bar in GradeLevelCount.containers:\n",
        "  GradeLevelCount.bar_label(bar)\n",
        "\n",
        "#Titles the bar graph\n",
        "GradeLevelCount.set_title('Scholar Grade Levels');"
      ],
      "metadata": {
        "colab": {
          "base_uri": "https://localhost:8080/",
          "height": 472
        },
        "id": "REQ60Mv8N9vf",
        "outputId": "3a752301-a345-4c5c-a82a-78ca176b4793"
      },
      "execution_count": null,
      "outputs": [
        {
          "output_type": "display_data",
          "data": {
            "text/plain": [
              "<Figure size 640x480 with 1 Axes>"
            ],
            "image/png": "[encoded data removed]"
          },
          "metadata": {}
        }
      ]
    },
    {
      "cell_type": "markdown",
      "source": [
        "**Observations:**\n",
        "* All grade levels have roughly the same number of scholars in them (between 144 and 166)."
      ],
      "metadata": {
        "id": "pjz7VGpbSPeu"
      }
    },
    {
      "cell_type": "markdown",
      "source": [
        "**Exam Score Correlations**"
      ],
      "metadata": {
        "id": "GZ1YbkyJyIL5"
      }
    },
    {
      "cell_type": "code",
      "source": [
        "#Creates a matrix of correlations\n",
        "correlations = df.corr(numeric_only=True)\n",
        "\n",
        "#Graphs the correlations on a heatmap\n",
        "correlationMap = sns.heatmap(\n",
        "    correlations,\n",
        "    annot=True,\n",
        "    mask=np.triu(correlations)\n",
        "      )\n",
        "\n",
        "correlationMap.set_title('Correlations');"
      ],
      "metadata": {
        "colab": {
          "base_uri": "https://localhost:8080/",
          "height": 552
        },
        "id": "jOu8S-35yMNv",
        "outputId": "ff07f95e-5635-47f8-8ac8-f871dac69fe5"
      },
      "execution_count": null,
      "outputs": [
        {
          "output_type": "display_data",
          "data": {
            "text/plain": [
              "<Figure size 640x480 with 2 Axes>"
            ],
            "image/png": "[encoded data removed]"
          },
          "metadata": {}
        }
      ]
    },
    {
      "cell_type": "markdown",
      "source": [
        "**Observation**\n",
        "* The correlations between ELAR and Math (0.74) is signifcantly stronger than the correlation between ELAR and Essay (0.37)\n",
        "* Essay has a weak positive correlation with every other variable."
      ],
      "metadata": {
        "id": "rQKvb_cTz1H9"
      }
    },
    {
      "cell_type": "code",
      "source": [
        "#Creates a grid for the scatter plots\n",
        "scatterFig, scatterAx = plt.subplots(1,2, figsize=(13,5))\n",
        "\n",
        "#Creates scatter plots\n",
        "ELARByMath = sns.scatterplot(data=df, x='ELAR', y='Math', ax = scatterAx[0])\n",
        "ELARByEssay = sns.scatterplot(data=df, x='ELAR', y='Essay', ax = scatterAx[1])\n",
        "\n",
        "#Titles Figure\n",
        "scatterFig.suptitle('Correlations between Scores')\n",
        "\n",
        "#Labels plots\n",
        "scatterAx[0].set_title('ELAR Scores by Math')\n",
        "scatterAx[1].set_title('ELAR Scores by Essay')"
      ],
      "metadata": {
        "colab": {
          "base_uri": "https://localhost:8080/",
          "height": 428
        },
        "id": "im-WjOlN0V_P",
        "outputId": "9a3cdf1e-8b5f-4dff-d4e7-7258f9903667"
      },
      "execution_count": null,
      "outputs": [
        {
          "output_type": "execute_result",
          "data": {
            "text/plain": [
              "Text(0.5, 1.0, 'ELAR Scores by Essay')"
            ]
          },
          "metadata": {},
          "execution_count": 9
        },
        {
          "output_type": "display_data",
          "data": {
            "text/plain": [
              "<Figure size 1300x500 with 2 Axes>"
            ],
            "image/png": "[encoded data removed]"
          },
          "metadata": {}
        }
      ]
    },
    {
      "cell_type": "markdown",
      "source": [
        "## 4) How Many Missing Scores?"
      ],
      "metadata": {
        "id": "Zu9S0nNhWLoh"
      }
    },
    {
      "cell_type": "markdown",
      "source": [
        "Our goal for this section is to figure how many are missing each part of the exam and what grade level the missing scores are from."
      ],
      "metadata": {
        "id": "5Qu0bLpkSsVV"
      }
    },
    {
      "cell_type": "markdown",
      "source": [
        "### a) Missing Score Counts\n",
        "Below we are going to look at how many scholars are missing a score for each section of the TSIA2.  This could be caused by incomplete data or them not finishing the section of the exam."
      ],
      "metadata": {
        "id": "yyxQchzwR09Z"
      }
    },
    {
      "cell_type": "markdown",
      "source": [
        "**Missing ELAR**"
      ],
      "metadata": {
        "id": "ykV88j3WUqMa"
      }
    },
    {
      "cell_type": "code",
      "source": [
        "#Creates a dataframe for scholars who are missing ELAR\n",
        "missingELAR = df.loc[df['ELAR'].isnull()]\n",
        "\n",
        "#Counts the scholars who are missing ELAR\n",
        "missingELARCount = len(missingELAR)\n",
        "\n",
        "#Saves the dataframe as a csv file\n",
        "missingELAR.to_csv('/content/drive/MyDrive/Achieve/TSI2/November2023/scholarsMissingELAR.csv')"
      ],
      "metadata": {
        "id": "pYOgSU1xS3jJ"
      },
      "execution_count": null,
      "outputs": []
    },
    {
      "cell_type": "markdown",
      "source": [
        "**Missing Math**"
      ],
      "metadata": {
        "id": "aSn4VbiVUsg7"
      }
    },
    {
      "cell_type": "code",
      "source": [
        "#Creates a dataframe for scholars who are missing Math\n",
        "missingMath = df.loc[df['Math'].isnull()]\n",
        "\n",
        "#Counts the scholars who are missing Math\n",
        "missingMathCount = len(missingMath)\n",
        "\n",
        "#Saves the dataframe as a csv file\n",
        "missingMath.to_csv('/content/drive/MyDrive/Achieve/TSI2/November2023/scholarsMissingMath.csv')"
      ],
      "metadata": {
        "id": "nl8xmygKUPSn"
      },
      "execution_count": null,
      "outputs": []
    },
    {
      "cell_type": "markdown",
      "source": [
        "**Missing the Essay**"
      ],
      "metadata": {
        "id": "v-7rBjIxUu4_"
      }
    },
    {
      "cell_type": "code",
      "source": [
        "#Creates a dataframe for scholars who are missing Essay\n",
        "missingEssay = df.loc[df['Essay'].isnull()]\n",
        "\n",
        "#Counts the scholars who are missing the Essay\n",
        "missingEssayCount = len(missingEssay)\n",
        "\n",
        "#Saves the dataframe as a csv file\n",
        "missingEssay.to_csv('/content/drive/MyDrive/Achieve/TSI2/November2023/scholarsMissingEssay.csv')"
      ],
      "metadata": {
        "id": "KgVfN0bgUTa6"
      },
      "execution_count": null,
      "outputs": []
    },
    {
      "cell_type": "markdown",
      "source": [
        "**Missing Two Out of the Three Sections**"
      ],
      "metadata": {
        "id": "FG74SWCbU_ZF"
      }
    },
    {
      "cell_type": "code",
      "source": [
        "#Merges missingELAR and missingEssay\n",
        "missingEssayAndELAR = missingELAR.merge(missingEssay, on=list(missingELAR.keys()), how='inner')\n",
        "missingEssayAndELARCount = len(missingEssayAndELAR)\n",
        "\n",
        "#Merges missingEssay and missingMath\n",
        "missingEssayAndMath = missingEssay.merge(missingMath, on=list(missingMath.keys()), how='inner')\n",
        "missingEssayAndMathCount = len(missingEssayAndMath)\n",
        "\n",
        "#Merges missingELAR and missingMath\n",
        "missingELARAndMath = missingELAR.merge(missingMath, on=list(missingELAR.keys()), how='inner')\n",
        "missingELARAndMathCount=len(missingELARAndMath)"
      ],
      "metadata": {
        "id": "pcUdcUbrVFfh"
      },
      "execution_count": null,
      "outputs": []
    },
    {
      "cell_type": "markdown",
      "source": [
        "**Missing All Three Sections**"
      ],
      "metadata": {
        "id": "cCWPVBd9XPNG"
      }
    },
    {
      "cell_type": "code",
      "source": [
        "#Merges to find overlap of all three\n",
        "missingAll = missingEssayAndELAR.merge(missingMath, on=list(missingEssayAndELAR.keys()), how='inner')\n",
        "missingAllCount = len(missingAll)"
      ],
      "metadata": {
        "id": "cVjMR0i_XZ7c"
      },
      "execution_count": null,
      "outputs": []
    },
    {
      "cell_type": "markdown",
      "source": [
        "**Venn Diagram Catagories**"
      ],
      "metadata": {
        "id": "c-lTzcO9Xen5"
      }
    },
    {
      "cell_type": "code",
      "source": [
        "#Counts the number of scholars in each catagory\n",
        "onlyMissingMath = missingMathCount-missingEssayAndMathCount-missingELARAndMathCount-missingAllCount\n",
        "onlyMissingELAR = missingELARCount-missingEssayAndELARCount-missingELARAndMathCount-missingAllCount\n",
        "onlyMissingEssay = missingEssayCount-missingEssayAndELARCount-missingEssayAndMathCount-missingAllCount\n",
        "missingELARAndEssayOnly = missingEssayAndELARCount-missingAllCount\n",
        "missingEssayAndMathOnly = missingEssayAndMathCount-missingAllCount\n",
        "missingELARAndMathOnly = missingELARAndMathCount-missingAllCount"
      ],
      "metadata": {
        "id": "voMWHSkKWye0"
      },
      "execution_count": null,
      "outputs": []
    },
    {
      "cell_type": "code",
      "source": [
        "#Creates a venn diagram for the scholar who are missing a score.\n",
        "missingCountVenn = venn3(\n",
        "    subsets = (onlyMissingMath, onlyMissingELAR, missingELARAndMathOnly, onlyMissingEssay, missingEssayAndMathOnly, missingELARAndEssayOnly, missingAllCount),\n",
        "    set_labels = ('Math', 'ELAR', 'Essay')\n",
        "    )\n",
        "\n",
        "plt.title(\"Number of Scholars Missing Each Exam\");"
      ],
      "metadata": {
        "colab": {
          "base_uri": "https://localhost:8080/",
          "height": 428
        },
        "id": "FBBjGE0tTDZm",
        "outputId": "ecf0c4bf-b268-41f2-ebdd-9c61cdf1e273"
      },
      "execution_count": null,
      "outputs": [
        {
          "output_type": "display_data",
          "data": {
            "text/plain": [
              "<Figure size 640x480 with 1 Axes>"
            ],
            "image/png": "[encoded data removed]"
          },
          "metadata": {}
        }
      ]
    },
    {
      "cell_type": "code",
      "source": [
        "#Total number of scholars who are missing ELAR, Math or Essay\n",
        "total = missingAllCount+onlyMissingMath+onlyMissingELAR+onlyMissingEssay+missingELARAndEssayOnly+missingELARAndMathOnly+missingEssayAndMathOnly\n",
        "\n",
        "#Prints the number of scholars who are missing nothing\n",
        "print(f'The number of scholars who are missing at least one part of the exam are {total}.')\n",
        "print(f'The number of scholars who are missing nothing are: {rows-total}')"
      ],
      "metadata": {
        "colab": {
          "base_uri": "https://localhost:8080/"
        },
        "id": "5et_0_ivXrF9",
        "outputId": "6edb6ca6-c6c5-4424-b9cd-ff6cd0a90f21"
      },
      "execution_count": null,
      "outputs": [
        {
          "output_type": "stream",
          "name": "stdout",
          "text": [
            "The number of scholars who are missing at least one part of the exam are 248.\n",
            "The number of scholars who are missing nothing are: 367\n"
          ]
        }
      ]
    },
    {
      "cell_type": "markdown",
      "source": [
        "**Observations:**\n",
        "* 39.5% of scholars (243/615) are missing their Essay score.\n",
        "* 40.3% of scholars (248/615) are missing atleast one part.\n",
        "* Every scholar who is missing an ELAR score is also missing their Essay.\n",
        "* No one is missing both Math and ELAR"
      ],
      "metadata": {
        "id": "m09rl8Tb3Sv6"
      }
    },
    {
      "cell_type": "markdown",
      "source": [
        "### b) Missing Scores by Grade Level\n",
        "Now we will look at how the missing scores are distributed throughout the grade levels."
      ],
      "metadata": {
        "id": "SQ6LmyO_4CaB"
      }
    },
    {
      "cell_type": "code",
      "source": [
        "#Countplot of missing Scores by grade level\n",
        "missingScoresByGradeFig, missingScoresByGradeAx = plt.subplots(1,3, figsize=(13,5))\n",
        "\n",
        "#Adjusts the space between the plots\n",
        "plt.subplots_adjust(wspace=.5)\n",
        "\n",
        "#Creates each plot\n",
        "sns.countplot(data=missingMath, x='Grade', ax=missingScoresByGradeAx[0], order = [9, 10, 11, 12])\n",
        "sns.countplot(data=missingELAR, x='Grade', ax=missingScoresByGradeAx[1], order = [9, 10, 11, 12])\n",
        "sns.countplot(data=missingEssay, x='Grade', ax=missingScoresByGradeAx[2], order = [9, 10, 11, 12])\n",
        "\n",
        "#Titles\n",
        "missingScoresByGradeFig.suptitle('Missing Scores by Grade Level')\n",
        "missingScoresByGradeAx[0].set_title('Missing Math')\n",
        "missingScoresByGradeAx[1].set_title('Missing ELAR')\n",
        "missingScoresByGradeAx[2].set_title('Missing Essay');\n",
        "\n",
        "#Labels bars with the Count\n",
        "for plot in missingScoresByGradeAx:\n",
        "  for bar in plot.containers:\n",
        "    plot.bar_label(bar)"
      ],
      "metadata": {
        "colab": {
          "base_uri": "https://localhost:8080/",
          "height": 418
        },
        "id": "JsS2pkpNxLHt",
        "outputId": "2ea9bc06-24ec-49f7-f046-fed351a3f60e"
      },
      "execution_count": null,
      "outputs": [
        {
          "output_type": "display_data",
          "data": {
            "text/plain": [
              "<Figure size 1300x500 with 3 Axes>"
            ],
            "image/png": "[encoded data removed]"
          },
          "metadata": {}
        }
      ]
    },
    {
      "cell_type": "markdown",
      "source": [
        "**Observations:**\n",
        "* All of the scholars who are missing either Math or ELAR are in 9th or 10th grade.\n",
        "* There are 28 Seniors and 52 Juniours who are missing an Essay score."
      ],
      "metadata": {
        "id": "WHOz4SpNZdfS"
      }
    },
    {
      "cell_type": "markdown",
      "source": [
        "## 5) Passing Score Counts"
      ],
      "metadata": {
        "id": "QvVkL_A9PLDD"
      }
    },
    {
      "cell_type": "markdown",
      "source": [
        "In this section our goal is to see how many scholars have passed each section of the TSIA2 and how each grade level is preforming."
      ],
      "metadata": {
        "id": "IlRuyoHMakDS"
      }
    },
    {
      "cell_type": "markdown",
      "source": [
        "### a) Passing Scores Count for Each Section Exam"
      ],
      "metadata": {
        "id": "ThZYHsYH5mpI"
      }
    },
    {
      "cell_type": "markdown",
      "source": [
        "**Passed Math**"
      ],
      "metadata": {
        "id": "GHxQc8djbF0a"
      }
    },
    {
      "cell_type": "code",
      "source": [
        "#Creates a dataframe for all scholars who passed math\n",
        "passedMath = df.loc[(df['Math']>=950) | (df['Math Diagnostic']>= 6)]\n",
        "\n",
        "#Counts all scholars who passed math\n",
        "passedMathCount = len(passedMath)"
      ],
      "metadata": {
        "id": "t5UZOeeHbICz"
      },
      "execution_count": null,
      "outputs": []
    },
    {
      "cell_type": "markdown",
      "source": [
        "**Passed ELAR**"
      ],
      "metadata": {
        "id": "YpzqlndubOlv"
      }
    },
    {
      "cell_type": "code",
      "source": [
        "#Creates a dataframe for all scholars who passed ELAR\n",
        "passedELAR = df.loc[(df['ELAR']>=945) | (df['ELAR Diagnostic']>= 5)]\n",
        "\n",
        "#Counts all scholars who passed ELAR\n",
        "passedELARCount = len(passedELAR)"
      ],
      "metadata": {
        "id": "NFCB4d1QbN1S"
      },
      "execution_count": null,
      "outputs": []
    },
    {
      "cell_type": "markdown",
      "source": [
        "**Passed the Essay**"
      ],
      "metadata": {
        "id": "5uB-ydzjbi8G"
      }
    },
    {
      "cell_type": "code",
      "source": [
        "#Creates a dataframe for all scholars who passed the Essay\n",
        "passedEssay = df.loc[df['Essay']>= 5]\n",
        "\n",
        "#Counts all scholars who passed the essay\n",
        "passedEssayCount = len(passedEssay)"
      ],
      "metadata": {
        "id": "jqIgSBEmbno-"
      },
      "execution_count": null,
      "outputs": []
    },
    {
      "cell_type": "markdown",
      "source": [
        "**Passed Two out of the Three Sections**"
      ],
      "metadata": {
        "id": "4vY0zYyrb7Zv"
      }
    },
    {
      "cell_type": "code",
      "source": [
        "#Merges passedMath and passedELAR\n",
        "passedMathAndELAR = passedMath.merge(passedELAR, on=list(df.keys()), how='inner')\n",
        "npassedMathAndELAR = len(passedMathAndELAR)\n",
        "\n",
        "#Merges passedMath and passedEssay\n",
        "passedMathAndEssay = passedMath.merge(passedEssay, on=list(df.keys()), how='inner')\n",
        "npassedMathAndEssay = len(passedMathAndEssay)\n",
        "\n",
        "#Merges passedELAR and passedEssay\n",
        "passedELARAndEssay = passedELAR.merge(passedEssay, on=list(df.keys()), how='inner')\n",
        "npassedELARAndEssay = len(passedELARAndEssay)"
      ],
      "metadata": {
        "id": "U6CbEf-dcAMU"
      },
      "execution_count": null,
      "outputs": []
    },
    {
      "cell_type": "markdown",
      "source": [
        "**Passed all Three Sections**"
      ],
      "metadata": {
        "id": "hCmhKIfWcW4L"
      }
    },
    {
      "cell_type": "code",
      "source": [
        "#Merges passELARAndEssay and passedMath\n",
        "passedAll = passedELARAndEssay.merge(passedMath, on = list(df.keys()), how = 'inner')\n",
        "passedAllCount = len(passedAll)"
      ],
      "metadata": {
        "id": "PgFX0QckcbRp"
      },
      "execution_count": null,
      "outputs": []
    },
    {
      "cell_type": "markdown",
      "source": [
        "**Catagories for the Venn Diagram**"
      ],
      "metadata": {
        "id": "qSVqx3VsckY9"
      }
    },
    {
      "cell_type": "code",
      "source": [
        "#Counts the number of scholars in each catagory\n",
        "passedMathAndELAROnly = npassedMathAndELAR-passedAllCount\n",
        "passedMathAndEssayOnly = npassedMathAndEssay-passedAllCount\n",
        "passedELARAndEssayOnly = npassedELARAndEssay-passedAllCount\n",
        "passedMathOnly = passedMathCount-passedMathAndELAROnly-passedMathAndEssayOnly-passedAllCount\n",
        "passedELAROnly = passedELARCount-passedMathAndELAROnly-passedELARAndEssayOnly-passedAllCount\n",
        "passedEssayOnly = passedEssayCount - passedMathAndEssayOnly - passedELARAndEssayOnly - passedAllCount"
      ],
      "metadata": {
        "id": "fFHi9WadPlHE"
      },
      "execution_count": null,
      "outputs": []
    },
    {
      "cell_type": "code",
      "source": [
        "#Venn Diagram for Passing Scores\n",
        "passingCountVenn = venn3(\n",
        "    subsets = (passedMathOnly, passedELAROnly, passedMathAndELAROnly, passedEssayOnly, passedMathAndEssayOnly, passedELARAndEssayOnly, passedAllCount),\n",
        "    set_labels = ('Math', 'ELAR', 'Essay')\n",
        "    )\n",
        "\n",
        "plt.title(\"Number of Scholars Who Passed Each Exam\");"
      ],
      "metadata": {
        "colab": {
          "base_uri": "https://localhost:8080/",
          "height": 434
        },
        "id": "wMRVbzo9WdLN",
        "outputId": "4cccb42c-98cd-4a2e-e703-e552fae43d4b"
      },
      "execution_count": null,
      "outputs": [
        {
          "output_type": "display_data",
          "data": {
            "text/plain": [
              "<Figure size 640x480 with 1 Axes>"
            ],
            "image/png": "[encoded data removed]"
          },
          "metadata": {}
        }
      ]
    },
    {
      "cell_type": "markdown",
      "source": [
        "I also want to look at how many scholare are represent in this venn diagram in total, and how many students are not."
      ],
      "metadata": {
        "id": "bf3kj62r5zWD"
      }
    },
    {
      "cell_type": "code",
      "source": [
        "#Counts how many scholars passed atleast one section\n",
        "passedAtleastOne = passedMathOnly+ passedELAROnly+ passedMathAndELAROnly+ passedEssayOnly+ passedMathAndEssayOnly+ passedELARAndEssayOnly+ passedAllCount\n",
        "\n",
        "#Prints Counts\n",
        "print(f'There are {passedAtleastOne} who have passed atleast one part of the exam.')\n",
        "print(f'There are {rows-passedAtleastOne} who have not passed any part of the exam.')"
      ],
      "metadata": {
        "colab": {
          "base_uri": "https://localhost:8080/"
        },
        "id": "ZTfew04ycmBq",
        "outputId": "5335c069-68dc-4309-9e37-bc7e4c105345"
      },
      "execution_count": null,
      "outputs": [
        {
          "output_type": "stream",
          "name": "stdout",
          "text": [
            "There are 245 who have passed atleast one part of the exam.\n",
            "There are 370 who have not passed any part of the exam.\n"
          ]
        }
      ]
    },
    {
      "cell_type": "markdown",
      "source": [
        "**Observations:**\n",
        "* 10.6% of scholars (65/615) have passed all three sections.\n",
        "* There are 42 scholars who only need to pass the Math section.\n",
        "* 215 scholars have passed the essay, 131 scholars have passed the ELAR, and 85 scholars have passed math."
      ],
      "metadata": {
        "id": "8HE_4NWQfG0F"
      }
    },
    {
      "cell_type": "markdown",
      "source": [
        "### b) Passing Score Counts by Grade level"
      ],
      "metadata": {
        "id": "Fbgw7R8R5syT"
      }
    },
    {
      "cell_type": "code",
      "source": [
        "#Creates bar graph for the the number of scholars who have passed all sections in each grade\n",
        "passedByGrade = sns.countplot(data=passedAll, x='Grade')\n",
        "\n",
        "#Titles the bar graph\n",
        "plt.title('Count of Passed TSIA2 by Grade Level');\n",
        "\n",
        "#Adds counts to bars\n",
        "for bar in passedByGrade.containers:\n",
        "  passedByGrade.bar_label(bar)"
      ],
      "metadata": {
        "colab": {
          "base_uri": "https://localhost:8080/",
          "height": 472
        },
        "id": "CQM5L8JYhkKS",
        "outputId": "1ee4d85e-d626-425c-b84f-a4ca5feb6c2f"
      },
      "execution_count": null,
      "outputs": [
        {
          "output_type": "display_data",
          "data": {
            "text/plain": [
              "<Figure size 640x480 with 1 Axes>"
            ],
            "image/png": "[encoded data removed]"
          },
          "metadata": {}
        }
      ]
    },
    {
      "cell_type": "code",
      "source": [
        "#Create Plot structure\n",
        "passedByGradeFig, passedByGradeAx = plt.subplots(1,3, figsize=(12,6))\n",
        "\n",
        "#Adjust spacing\n",
        "plt.subplots_adjust(wspace=1)\n",
        "\n",
        "#Creates Each plot\n",
        "sns.countplot(data=passedMath, x='Grade', ax=passedByGradeAx[0])\n",
        "sns.countplot(data=passedELAR, x='Grade', ax=passedByGradeAx[1])\n",
        "sns.countplot(data=passedEssay, x='Grade', ax=passedByGradeAx[2])\n",
        "\n",
        "#Titles\n",
        "passedByGradeFig.suptitle('Number of Scholars Who Passed by Grade Level')\n",
        "passedByGradeAx[0].set_title('Math')\n",
        "passedByGradeAx[1].set_title('ELAR')\n",
        "passedByGradeAx[2].set_title('Essay');\n",
        "\n",
        "#Labels bars with the Count\n",
        "for plot in passedByGradeAx:\n",
        "  for bar in plot.containers:\n",
        "    plot.bar_label(bar)"
      ],
      "metadata": {
        "colab": {
          "base_uri": "https://localhost:8080/",
          "height": 520
        },
        "id": "GKMA2fIZSjAP",
        "outputId": "159f86e3-04c1-45ef-ac08-5e70ae897886"
      },
      "execution_count": null,
      "outputs": [
        {
          "output_type": "display_data",
          "data": {
            "text/plain": [
              "<Figure size 1200x600 with 3 Axes>"
            ],
            "image/png": "[encoded data removed]"
          },
          "metadata": {}
        }
      ]
    },
    {
      "cell_type": "markdown",
      "source": [
        "**Observations:**\n",
        "* The senior class has the most passing scores out of all of the grade levels.\n",
        "* The freshman class has more passing scores than the sophmores."
      ],
      "metadata": {
        "id": "OI0e_8rl6JwW"
      }
    },
    {
      "cell_type": "markdown",
      "source": [
        "Now we are going to look the percentage of seniors who have passed all three sections."
      ],
      "metadata": {
        "id": "nx4L0OtX6aKJ"
      }
    },
    {
      "cell_type": "code",
      "source": [
        "#Count the number of seniors who passed and total seniors\n",
        "SeniorsPassedCount = len(passedAll.loc[passedAll['Grade']==12])\n",
        "SeniorCount = len(df.loc[df['Grade']==12])\n",
        "\n",
        "#Prints percentages\n",
        "print(f'{round(SeniorsPassedCount/SeniorCount*100,1)}% of Seniors ({SeniorsPassedCount}/{SeniorCount}) have passed all sections of the TSIA2.')"
      ],
      "metadata": {
        "colab": {
          "base_uri": "https://localhost:8080/"
        },
        "id": "wJJByvFGdaEn",
        "outputId": "417b43fc-c19e-49cc-bc39-be180d558688"
      },
      "execution_count": null,
      "outputs": [
        {
          "output_type": "stream",
          "name": "stdout",
          "text": [
            "31.2% of Seniors (45/144) have passed all sections of the TSIA2.\n"
          ]
        }
      ]
    },
    {
      "cell_type": "markdown",
      "source": [
        "Now we will find the number of senior who only need to pass the math section of the TSIA2."
      ],
      "metadata": {
        "id": "tTGvnoz_B_eE"
      }
    },
    {
      "cell_type": "code",
      "source": [
        "#dataframe for passedELARAndEssayOnly\n",
        "dfPassedELARAndEssayOnly = passedELARAndEssay.loc[(passedELARAndEssay['Math'] <950) & (passedELARAndEssay['Math Diagnostic'] < 6)]\n",
        "\n",
        "seniorNeedMath = len(dfPassedELARAndEssayOnly.loc[dfPassedELARAndEssayOnly['Grade']==12])\n",
        "\n",
        "\n",
        "print(f'There are {seniorNeedMath} seniors who only need to pass the math test.')"
      ],
      "metadata": {
        "colab": {
          "base_uri": "https://localhost:8080/"
        },
        "id": "m7VXMmhL_bga",
        "outputId": "460343d9-397d-4d7d-e2b2-91cee72c0cc9"
      },
      "execution_count": null,
      "outputs": [
        {
          "output_type": "stream",
          "name": "stdout",
          "text": [
            "There are 16 seniors who only need to pass the math test.\n"
          ]
        }
      ]
    },
    {
      "cell_type": "markdown",
      "source": [
        "## 6) Scores Distribution"
      ],
      "metadata": {
        "id": "bRgmOL_tef4d"
      }
    },
    {
      "cell_type": "markdown",
      "source": [
        "The goal of this section is see the distrabution for each of the exam scores.  In this section the green area of the graph represents a passing score."
      ],
      "metadata": {
        "id": "pNYSLtofkF92"
      }
    },
    {
      "cell_type": "markdown",
      "source": [
        "### a) Math Scores Distribution"
      ],
      "metadata": {
        "id": "TFNPK5db6MO-"
      }
    },
    {
      "cell_type": "markdown",
      "source": [
        "**Math Scores**"
      ],
      "metadata": {
        "id": "bcwOblEY7B2u"
      }
    },
    {
      "cell_type": "code",
      "source": [
        "#Create Subplot Structure for Math and Math Diagnostic\n",
        "mathScoresFig, mathScoresAx = plt.subplots(1,2)\n",
        "\n",
        "#Adjust sizing\n",
        "mathScoresFig.set_figwidth(15)\n",
        "\n",
        "#Creates Plot for Math\n",
        "sns.histplot(\n",
        "    data=df,\n",
        "    x='Math',\n",
        "    binwidth=5,\n",
        "    ax=mathScoresAx[0]\n",
        "    ).set_xticks(np.arange(910, 991, 10))\n",
        "\n",
        "#Creates Plot of Math Diagnostic\n",
        "sns.histplot(\n",
        "    data=df,\n",
        "    x='Math Diagnostic',\n",
        "    binwidth = 1,\n",
        "    binrange=(-0.5,8.5),\n",
        "    ax=mathScoresAx[1]\n",
        "    )\n",
        "\n",
        "#Titles\n",
        "mathScoresFig.suptitle('Math Scores')\n",
        "mathScoresAx[0].set_title('Math')\n",
        "mathScoresAx[1].set_title('Math Diagnostic')\n",
        "\n",
        "#Highlights passing scores\n",
        "mathScoresAx[0].axvspan(950, 990, color = 'green', alpha = 0.2)\n",
        "mathScoresAx[1].axvspan(5.5, 9, color = 'green', alpha = 0.2);"
      ],
      "metadata": {
        "colab": {
          "base_uri": "https://localhost:8080/",
          "height": 349
        },
        "id": "4W3Ln2s97pdt",
        "outputId": "156be0a4-d078-465c-9285-c175b247b8f8"
      },
      "execution_count": null,
      "outputs": [
        {
          "output_type": "display_data",
          "data": {
            "text/plain": [
              "<Figure size 1500x480 with 2 Axes>"
            ],
            "image/png": "[encoded data removed]"
          },
          "metadata": {}
        }
      ]
    },
    {
      "cell_type": "code",
      "source": [
        "#Data for all scholars who faild Math but passed Math Diagnostic\n",
        "passedMath.loc[passedMath['Math']<950]"
      ],
      "metadata": {
        "colab": {
          "base_uri": "https://localhost:8080/",
          "height": 529
        },
        "id": "5p2gRuE6xL_9",
        "outputId": "d03adb56-63e2-418c-fb6b-4784303bc71b"
      },
      "execution_count": null,
      "outputs": [
        {
          "output_type": "execute_result",
          "data": {
            "text/plain": [
              "    SR ID TSDS      First      Last  Grade   ELAR  ELAR Diagnostic  \\\n",
              "10     11   11      Kasey  Oconnell     12  961.0              NaN   \n",
              "38     39   39      Allan   Shields     12  943.0              5.0   \n",
              "50     51   51      Jared     Glenn     12  946.0              NaN   \n",
              "52     53   53     Lucian     House     12  946.0              4.0   \n",
              "103   104  104   Sulaiman    Bishop     11  960.0              4.0   \n",
              "109   110  110    Haleema     Frank     11  960.0              NaN   \n",
              "294   295  295  Gabriella   Cabrera     12  965.0              NaN   \n",
              "367   368  368      Krish   Solomon      9  954.0              NaN   \n",
              "\n",
              "    ELAR -Text Analysis and Synthesis  \\\n",
              "10                                NaN   \n",
              "38                         3-Advanced   \n",
              "50                                NaN   \n",
              "52                         3-Advanced   \n",
              "103                      2-Proficient   \n",
              "109                               NaN   \n",
              "294                               NaN   \n",
              "367                               NaN   \n",
              "\n",
              "    ELAR - Content Revision and Editing for Conventions.  Essay   Math  \\\n",
              "10                                                 NaN      5.0  941.0   \n",
              "38                                        2-Proficient      6.0  944.0   \n",
              "50                                                 NaN      5.0  949.0   \n",
              "52                                        2-Proficient      5.0  948.0   \n",
              "103                                         3-Advanced      5.0  948.0   \n",
              "109                                                NaN      6.0  946.0   \n",
              "294                                                NaN      6.0  942.0   \n",
              "367                                                NaN      6.0  949.0   \n",
              "\n",
              "     Math Diagnostic Math - Quantitative Reasoning Math - Algebraic Reasoning  \\\n",
              "10               6.0                  2-Proficient                    1-Basic   \n",
              "38               6.0                  2-Proficient                    1-Basic   \n",
              "50               6.0                  2-Proficient               2-Proficient   \n",
              "52               6.0                  2-Proficient                    1-Basic   \n",
              "103              6.0                  2-Proficient                    1-Basic   \n",
              "109              6.0                  2-Proficient                    1-Basic   \n",
              "294              6.0                  2-Proficient                 3-Advanced   \n",
              "367              6.0                  2-Proficient               2-Proficient   \n",
              "\n",
              "    Math - Geometric and Spatial Reasoning  \\\n",
              "10                            2-Proficient   \n",
              "38                            2-Proficient   \n",
              "50                            2-Proficient   \n",
              "52                            2-Proficient   \n",
              "103                           2-Proficient   \n",
              "109                           2-Proficient   \n",
              "294                           2-Proficient   \n",
              "367                           2-Proficient   \n",
              "\n",
              "    Math - Probabilistic and Statistical Reasoning  \n",
              "10                                      3-Advanced  \n",
              "38                                    2-Proficient  \n",
              "50                                    2-Proficient  \n",
              "52                                    2-Proficient  \n",
              "103                                     3-Advanced  \n",
              "109                                   2-Proficient  \n",
              "294                                     3-Advanced  \n",
              "367                                   2-Proficient  "
            ],
            "text/html": [
              "\n",
              "  <div id=\"df-e05ab3c1-fadc-48ad-a660-2d362858d6ac\" class=\"colab-df-container\">\n",
              "    <div>\n",
              "<style scoped>\n",
              "    .dataframe tbody tr th:only-of-type {\n",
              "        vertical-align: middle;\n",
              "    }\n",
              "\n",
              "    .dataframe tbody tr th {\n",
              "        vertical-align: top;\n",
              "    }\n",
              "\n",
              "    .dataframe thead th {\n",
              "        text-align: right;\n",
              "    }\n",
              "</style>\n",
              "<table border=\"1\" class=\"dataframe\">\n",
              "  <thead>\n",
              "    <tr style=\"text-align: right;\">\n",
              "      <th></th>\n",
              "      <th>SR ID</th>\n",
              "      <th>TSDS</th>\n",
              "      <th>First</th>\n",
              "      <th>Last</th>\n",
              "      <th>Grade</th>\n",
              "      <th>ELAR</th>\n",
              "      <th>ELAR Diagnostic</th>\n",
              "      <th>ELAR -Text Analysis and Synthesis</th>\n",
              "      <th>ELAR - Content Revision and Editing for Conventions.</th>\n",
              "      <th>Essay</th>\n",
              "      <th>Math</th>\n",
              "      <th>Math Diagnostic</th>\n",
              "      <th>Math - Quantitative Reasoning</th>\n",
              "      <th>Math - Algebraic Reasoning</th>\n",
              "      <th>Math - Geometric and Spatial Reasoning</th>\n",
              "      <th>Math - Probabilistic and Statistical Reasoning</th>\n",
              "    </tr>\n",
              "  </thead>\n",
              "  <tbody>\n",
              "    <tr>\n",
              "      <th>10</th>\n",
              "      <td>11</td>\n",
              "      <td>11</td>\n",
              "      <td>Kasey</td>\n",
              "      <td>Oconnell</td>\n",
              "      <td>12</td>\n",
              "      <td>961.0</td>\n",
              "      <td>NaN</td>\n",
              "      <td>NaN</td>\n",
              "      <td>NaN</td>\n",
              "      <td>5.0</td>\n",
              "      <td>941.0</td>\n",
              "      <td>6.0</td>\n",
              "      <td>2-Proficient</td>\n",
              "      <td>1-Basic</td>\n",
              "      <td>2-Proficient</td>\n",
              "      <td>3-Advanced</td>\n",
              "    </tr>\n",
              "    <tr>\n",
              "      <th>38</th>\n",
              "      <td>39</td>\n",
              "      <td>39</td>\n",
              "      <td>Allan</td>\n",
              "      <td>Shields</td>\n",
              "      <td>12</td>\n",
              "      <td>943.0</td>\n",
              "      <td>5.0</td>\n",
              "      <td>3-Advanced</td>\n",
              "      <td>2-Proficient</td>\n",
              "      <td>6.0</td>\n",
              "      <td>944.0</td>\n",
              "      <td>6.0</td>\n",
              "      <td>2-Proficient</td>\n",
              "      <td>1-Basic</td>\n",
              "      <td>2-Proficient</td>\n",
              "      <td>2-Proficient</td>\n",
              "    </tr>\n",
              "    <tr>\n",
              "      <th>50</th>\n",
              "      <td>51</td>\n",
              "      <td>51</td>\n",
              "      <td>Jared</td>\n",
              "      <td>Glenn</td>\n",
              "      <td>12</td>\n",
              "      <td>946.0</td>\n",
              "      <td>NaN</td>\n",
              "      <td>NaN</td>\n",
              "      <td>NaN</td>\n",
              "      <td>5.0</td>\n",
              "      <td>949.0</td>\n",
              "      <td>6.0</td>\n",
              "      <td>2-Proficient</td>\n",
              "      <td>2-Proficient</td>\n",
              "      <td>2-Proficient</td>\n",
              "      <td>2-Proficient</td>\n",
              "    </tr>\n",
              "    <tr>\n",
              "      <th>52</th>\n",
              "      <td>53</td>\n",
              "      <td>53</td>\n",
              "      <td>Lucian</td>\n",
              "      <td>House</td>\n",
              "      <td>12</td>\n",
              "      <td>946.0</td>\n",
              "      <td>4.0</td>\n",
              "      <td>3-Advanced</td>\n",
              "      <td>2-Proficient</td>\n",
              "      <td>5.0</td>\n",
              "      <td>948.0</td>\n",
              "      <td>6.0</td>\n",
              "      <td>2-Proficient</td>\n",
              "      <td>1-Basic</td>\n",
              "      <td>2-Proficient</td>\n",
              "      <td>2-Proficient</td>\n",
              "    </tr>\n",
              "    <tr>\n",
              "      <th>103</th>\n",
              "      <td>104</td>\n",
              "      <td>104</td>\n",
              "      <td>Sulaiman</td>\n",
              "      <td>Bishop</td>\n",
              "      <td>11</td>\n",
              "      <td>960.0</td>\n",
              "      <td>4.0</td>\n",
              "      <td>2-Proficient</td>\n",
              "      <td>3-Advanced</td>\n",
              "      <td>5.0</td>\n",
              "      <td>948.0</td>\n",
              "      <td>6.0</td>\n",
              "      <td>2-Proficient</td>\n",
              "      <td>1-Basic</td>\n",
              "      <td>2-Proficient</td>\n",
              "      <td>3-Advanced</td>\n",
              "    </tr>\n",
              "    <tr>\n",
              "      <th>109</th>\n",
              "      <td>110</td>\n",
              "      <td>110</td>\n",
              "      <td>Haleema</td>\n",
              "      <td>Frank</td>\n",
              "      <td>11</td>\n",
              "      <td>960.0</td>\n",
              "      <td>NaN</td>\n",
              "      <td>NaN</td>\n",
              "      <td>NaN</td>\n",
              "      <td>6.0</td>\n",
              "      <td>946.0</td>\n",
              "      <td>6.0</td>\n",
              "      <td>2-Proficient</td>\n",
              "      <td>1-Basic</td>\n",
              "      <td>2-Proficient</td>\n",
              "      <td>2-Proficient</td>\n",
              "    </tr>\n",
              "    <tr>\n",
              "      <th>294</th>\n",
              "      <td>295</td>\n",
              "      <td>295</td>\n",
              "      <td>Gabriella</td>\n",
              "      <td>Cabrera</td>\n",
              "      <td>12</td>\n",
              "      <td>965.0</td>\n",
              "      <td>NaN</td>\n",
              "      <td>NaN</td>\n",
              "      <td>NaN</td>\n",
              "      <td>6.0</td>\n",
              "      <td>942.0</td>\n",
              "      <td>6.0</td>\n",
              "      <td>2-Proficient</td>\n",
              "      <td>3-Advanced</td>\n",
              "      <td>2-Proficient</td>\n",
              "      <td>3-Advanced</td>\n",
              "    </tr>\n",
              "    <tr>\n",
              "      <th>367</th>\n",
              "      <td>368</td>\n",
              "      <td>368</td>\n",
              "      <td>Krish</td>\n",
              "      <td>Solomon</td>\n",
              "      <td>9</td>\n",
              "      <td>954.0</td>\n",
              "      <td>NaN</td>\n",
              "      <td>NaN</td>\n",
              "      <td>NaN</td>\n",
              "      <td>6.0</td>\n",
              "      <td>949.0</td>\n",
              "      <td>6.0</td>\n",
              "      <td>2-Proficient</td>\n",
              "      <td>2-Proficient</td>\n",
              "      <td>2-Proficient</td>\n",
              "      <td>2-Proficient</td>\n",
              "    </tr>\n",
              "  </tbody>\n",
              "</table>\n",
              "</div>\n",
              "    <div class=\"colab-df-buttons\">\n",
              "\n",
              "  <div class=\"colab-df-container\">\n",
              "    <button class=\"colab-df-convert\" onclick=\"convertToInteractive('df-e05ab3c1-fadc-48ad-a660-2d362858d6ac')\"\n",
              "            title=\"Convert this dataframe to an interactive table.\"\n",
              "            style=\"display:none;\">\n",
              "\n",
              "  <svg xmlns=\"http://www.w3.org/2000/svg\" height=\"24px\" viewBox=\"0 -960 960 960\">\n",
              "    <path d=\"M120-120v-720h720v720H120Zm60-500h600v-160H180v160Zm220 220h160v-160H400v160Zm0 220h160v-160H400v160ZM180-400h160v-160H180v160Zm440 0h160v-160H620v160ZM180-180h160v-160H180v160Zm440 0h160v-160H620v160Z\"/>\n",
              "  </svg>\n",
              "    </button>\n",
              "\n",
              "  <style>\n",
              "    .colab-df-container {\n",
              "      display:flex;\n",
              "      gap: 12px;\n",
              "    }\n",
              "\n",
              "    .colab-df-convert {\n",
              "      background-color: #E8F0FE;\n",
              "      border: none;\n",
              "      border-radius: 50%;\n",
              "      cursor: pointer;\n",
              "      display: none;\n",
              "      fill: #1967D2;\n",
              "      height: 32px;\n",
              "      padding: 0 0 0 0;\n",
              "      width: 32px;\n",
              "    }\n",
              "\n",
              "    .colab-df-convert:hover {\n",
              "      background-color: #E2EBFA;\n",
              "      box-shadow: 0px 1px 2px rgba(60, 64, 67, 0.3), 0px 1px 3px 1px rgba(60, 64, 67, 0.15);\n",
              "      fill: #174EA6;\n",
              "    }\n",
              "\n",
              "    .colab-df-buttons div {\n",
              "      margin-bottom: 4px;\n",
              "    }\n",
              "\n",
              "    [theme=dark] .colab-df-convert {\n",
              "      background-color: #3B4455;\n",
              "      fill: #D2E3FC;\n",
              "    }\n",
              "\n",
              "    [theme=dark] .colab-df-convert:hover {\n",
              "      background-color: #434B5C;\n",
              "      box-shadow: 0px 1px 3px 1px rgba(0, 0, 0, 0.15);\n",
              "      filter: drop-shadow(0px 1px 2px rgba(0, 0, 0, 0.3));\n",
              "      fill: #FFFFFF;\n",
              "    }\n",
              "  </style>\n",
              "\n",
              "    <script>\n",
              "      const buttonEl =\n",
              "        document.querySelector('#df-e05ab3c1-fadc-48ad-a660-2d362858d6ac button.colab-df-convert');\n",
              "      buttonEl.style.display =\n",
              "        google.colab.kernel.accessAllowed ? 'block' : 'none';\n",
              "\n",
              "      async function convertToInteractive(key) {\n",
              "        const element = document.querySelector('#df-e05ab3c1-fadc-48ad-a660-2d362858d6ac');\n",
              "        const dataTable =\n",
              "          await google.colab.kernel.invokeFunction('convertToInteractive',\n",
              "                                                    [key], {});\n",
              "        if (!dataTable) return;\n",
              "\n",
              "        const docLinkHtml = 'Like what you see? Visit the ' +\n",
              "          '<a target=\"_blank\" href=https://colab.research.google.com/notebooks/data_table.ipynb>data table notebook</a>'\n",
              "          + ' to learn more about interactive tables.';\n",
              "        element.innerHTML = '';\n",
              "        dataTable['output_type'] = 'display_data';\n",
              "        await google.colab.output.renderOutput(dataTable, element);\n",
              "        const docLink = document.createElement('div');\n",
              "        docLink.innerHTML = docLinkHtml;\n",
              "        element.appendChild(docLink);\n",
              "      }\n",
              "    </script>\n",
              "  </div>\n",
              "\n",
              "\n",
              "<div id=\"df-fe7608d2-2692-4a4c-a6a0-faec58f8b9c7\">\n",
              "  <button class=\"colab-df-quickchart\" onclick=\"quickchart('df-fe7608d2-2692-4a4c-a6a0-faec58f8b9c7')\"\n",
              "            title=\"Suggest charts\"\n",
              "            style=\"display:none;\">\n",
              "\n",
              "<svg xmlns=\"http://www.w3.org/2000/svg\" height=\"24px\"viewBox=\"0 0 24 24\"\n",
              "     width=\"24px\">\n",
              "    <g>\n",
              "        <path d=\"M19 3H5c-1.1 0-2 .9-2 2v14c0 1.1.9 2 2 2h14c1.1 0 2-.9 2-2V5c0-1.1-.9-2-2-2zM9 17H7v-7h2v7zm4 0h-2V7h2v10zm4 0h-2v-4h2v4z\"/>\n",
              "    </g>\n",
              "</svg>\n",
              "  </button>\n",
              "\n",
              "<style>\n",
              "  .colab-df-quickchart {\n",
              "      --bg-color: #E8F0FE;\n",
              "      --fill-color: #1967D2;\n",
              "      --hover-bg-color: #E2EBFA;\n",
              "      --hover-fill-color: #174EA6;\n",
              "      --disabled-fill-color: #AAA;\n",
              "      --disabled-bg-color: #DDD;\n",
              "  }\n",
              "\n",
              "  [theme=dark] .colab-df-quickchart {\n",
              "      --bg-color: #3B4455;\n",
              "      --fill-color: #D2E3FC;\n",
              "      --hover-bg-color: #434B5C;\n",
              "      --hover-fill-color: #FFFFFF;\n",
              "      --disabled-bg-color: #3B4455;\n",
              "      --disabled-fill-color: #666;\n",
              "  }\n",
              "\n",
              "  .colab-df-quickchart {\n",
              "    background-color: var(--bg-color);\n",
              "    border: none;\n",
              "    border-radius: 50%;\n",
              "    cursor: pointer;\n",
              "    display: none;\n",
              "    fill: var(--fill-color);\n",
              "    height: 32px;\n",
              "    padding: 0;\n",
              "    width: 32px;\n",
              "  }\n",
              "\n",
              "  .colab-df-quickchart:hover {\n",
              "    background-color: var(--hover-bg-color);\n",
              "    box-shadow: 0 1px 2px rgba(60, 64, 67, 0.3), 0 1px 3px 1px rgba(60, 64, 67, 0.15);\n",
              "    fill: var(--button-hover-fill-color);\n",
              "  }\n",
              "\n",
              "  .colab-df-quickchart-complete:disabled,\n",
              "  .colab-df-quickchart-complete:disabled:hover {\n",
              "    background-color: var(--disabled-bg-color);\n",
              "    fill: var(--disabled-fill-color);\n",
              "    box-shadow: none;\n",
              "  }\n",
              "\n",
              "  .colab-df-spinner {\n",
              "    border: 2px solid var(--fill-color);\n",
              "    border-color: transparent;\n",
              "    border-bottom-color: var(--fill-color);\n",
              "    animation:\n",
              "      spin 1s steps(1) infinite;\n",
              "  }\n",
              "\n",
              "  @keyframes spin {\n",
              "    0% {\n",
              "      border-color: transparent;\n",
              "      border-bottom-color: var(--fill-color);\n",
              "      border-left-color: var(--fill-color);\n",
              "    }\n",
              "    20% {\n",
              "      border-color: transparent;\n",
              "      border-left-color: var(--fill-color);\n",
              "      border-top-color: var(--fill-color);\n",
              "    }\n",
              "    30% {\n",
              "      border-color: transparent;\n",
              "      border-left-color: var(--fill-color);\n",
              "      border-top-color: var(--fill-color);\n",
              "      border-right-color: var(--fill-color);\n",
              "    }\n",
              "    40% {\n",
              "      border-color: transparent;\n",
              "      border-right-color: var(--fill-color);\n",
              "      border-top-color: var(--fill-color);\n",
              "    }\n",
              "    60% {\n",
              "      border-color: transparent;\n",
              "      border-right-color: var(--fill-color);\n",
              "    }\n",
              "    80% {\n",
              "      border-color: transparent;\n",
              "      border-right-color: var(--fill-color);\n",
              "      border-bottom-color: var(--fill-color);\n",
              "    }\n",
              "    90% {\n",
              "      border-color: transparent;\n",
              "      border-bottom-color: var(--fill-color);\n",
              "    }\n",
              "  }\n",
              "</style>\n",
              "\n",
              "  <script>\n",
              "    async function quickchart(key) {\n",
              "      const quickchartButtonEl =\n",
              "        document.querySelector('#' + key + ' button');\n",
              "      quickchartButtonEl.disabled = true;  // To prevent multiple clicks.\n",
              "      quickchartButtonEl.classList.add('colab-df-spinner');\n",
              "      try {\n",
              "        const charts = await google.colab.kernel.invokeFunction(\n",
              "            'suggestCharts', [key], {});\n",
              "      } catch (error) {\n",
              "        console.error('Error during call to suggestCharts:', error);\n",
              "      }\n",
              "      quickchartButtonEl.classList.remove('colab-df-spinner');\n",
              "      quickchartButtonEl.classList.add('colab-df-quickchart-complete');\n",
              "    }\n",
              "    (() => {\n",
              "      let quickchartButtonEl =\n",
              "        document.querySelector('#df-fe7608d2-2692-4a4c-a6a0-faec58f8b9c7 button');\n",
              "      quickchartButtonEl.style.display =\n",
              "        google.colab.kernel.accessAllowed ? 'block' : 'none';\n",
              "    })();\n",
              "  </script>\n",
              "</div>\n",
              "    </div>\n",
              "  </div>\n"
            ]
          },
          "metadata": {},
          "execution_count": 32
        }
      ]
    },
    {
      "cell_type": "markdown",
      "source": [
        "**Observations:**\n",
        "* There are 8 scholars who passed math through the diagnostic test.\n",
        "* All scholars who passed the diagnostic test scored at least proficient in quantitative reasoning and geometry and statistics.\n",
        "* 5 out of the 8 scholars scored basic on algebra."
      ],
      "metadata": {
        "id": "36_r2iVUxiyh"
      }
    },
    {
      "cell_type": "markdown",
      "source": [
        "**Math Scores by Grade**"
      ],
      "metadata": {
        "id": "KV889MFe7EsK"
      }
    },
    {
      "cell_type": "code",
      "source": [
        "#Creates plots for each math objective\n",
        "mathScoresByGrade = sns.FacetGrid(df, col=\"Grade\")\n",
        "\n",
        "#Creates each plot\n",
        "mathScoresByGrade.map(sns.histplot, \"Math\", binwidth = 5, binrange = (910, 990) )\n",
        "\n",
        "#Fig Title\n",
        "mathScoresByGrade.fig.suptitle(\"Math Scores by Grade Level\")\n",
        "\n",
        "#Adjust spacing\n",
        "plt.subplots_adjust(top=.84)\n",
        "\n",
        "#Plot Titles\n",
        "mathScoresByGrade.axes.flatten()[0].set_title(\"9th Grade\")\n",
        "mathScoresByGrade.axes.flatten()[1].set_title(\"10th Grade\")\n",
        "mathScoresByGrade.axes.flatten()[2].set_title(\"11th Grade\")\n",
        "mathScoresByGrade.axes.flatten()[3].set_title(\"12th Grade\");\n",
        "\n",
        "#Highlights Passing Scores\n",
        "mathScoresByGrade.axes.flatten()[0].axvspan(950, 990, color = 'green', alpha = 0.2);\n",
        "mathScoresByGrade.axes.flatten()[1].axvspan(950, 990, color = 'green', alpha = 0.2);\n",
        "mathScoresByGrade.axes.flatten()[2].axvspan(950, 990, color = 'green', alpha = 0.2);\n",
        "mathScoresByGrade.axes.flatten()[3].axvspan(950, 990, color = 'green', alpha = 0.2);"
      ],
      "metadata": {
        "colab": {
          "base_uri": "https://localhost:8080/",
          "height": 232
        },
        "id": "x00gfjzxN-6w",
        "outputId": "156467aa-476f-4214-883a-514739a4d170"
      },
      "execution_count": null,
      "outputs": [
        {
          "output_type": "display_data",
          "data": {
            "text/plain": [
              "<Figure size 1200x300 with 4 Axes>"
            ],
            "image/png": "[encoded data removed]"
          },
          "metadata": {}
        }
      ]
    },
    {
      "cell_type": "markdown",
      "source": [
        "### b) ELAR Scores Distabutions"
      ],
      "metadata": {
        "id": "WKw4yLjb6RRE"
      }
    },
    {
      "cell_type": "markdown",
      "source": [
        "**ELAR Scores**"
      ],
      "metadata": {
        "id": "YSKzA3607I0T"
      }
    },
    {
      "cell_type": "code",
      "source": [
        "#Create Subplot Structure for ELAR and ELAR Diagnostic\n",
        "ELARScoresFig, ELARScoresAx = plt.subplots(1,2)\n",
        "\n",
        "#Adjust sizing\n",
        "ELARScoresFig.set_figwidth(13)\n",
        "\n",
        "#Creates Plot for ELAR\n",
        "sns.histplot(\n",
        "    data=df,\n",
        "    x='ELAR',\n",
        "    binwidth=5,\n",
        "    ax=ELARScoresAx[0]\n",
        "    ).set_xticks(np.arange(910, 991, 10))\n",
        "\n",
        "#Creates Plot of ELAR Diagnostic\n",
        "sns.histplot(\n",
        "    data=df,\n",
        "    x='ELAR Diagnostic',\n",
        "    binwidth = 1,\n",
        "    binrange=(-0.5,8.5),\n",
        "    ax=ELARScoresAx[1]\n",
        "    )\n",
        "\n",
        "#Titles\n",
        "ELARScoresFig.suptitle('ELAR Scores')\n",
        "ELARScoresAx[0].set_title('ELAR')\n",
        "ELARScoresAx[1].set_title('ELAR Diagnostic')\n",
        "\n",
        "#Highlights passing scores\n",
        "ELARScoresAx[0].axvspan(945, 990, color = 'green', alpha = 0.2)\n",
        "ELARScoresAx[1].axvspan(4.5, 9, color = 'green', alpha = 0.2);"
      ],
      "metadata": {
        "colab": {
          "base_uri": "https://localhost:8080/",
          "height": 397
        },
        "id": "ATgze_zVm_0a",
        "outputId": "88c01a1a-a9d8-4a04-fbce-58696771525a"
      },
      "execution_count": null,
      "outputs": [
        {
          "output_type": "display_data",
          "data": {
            "text/plain": [
              "<Figure size 1300x480 with 2 Axes>"
            ],
            "image/png": "[encoded data removed]"
          },
          "metadata": {}
        }
      ]
    },
    {
      "cell_type": "code",
      "source": [
        "#passed ELAR by Diagnostic test\n",
        "passedELAR.loc[passedELAR['ELAR']<945]"
      ],
      "metadata": {
        "colab": {
          "base_uri": "https://localhost:8080/",
          "height": 1000
        },
        "id": "BhwOZ7jKyWLN",
        "outputId": "82017d46-0828-4745-91a9-81e822cf5189"
      },
      "execution_count": null,
      "outputs": [
        {
          "output_type": "execute_result",
          "data": {
            "text/plain": [
              "    SR ID TSDS      First        Last  Grade   ELAR  ELAR Diagnostic  \\\n",
              "2       3    3     Victor      Ingram     12  944.0              5.0   \n",
              "3       4    4     Halima   Cervantes     12  940.0              5.0   \n",
              "26     27   27     Leyton     Raymond     12  943.0              5.0   \n",
              "38     39   39      Allan     Shields     12  943.0              5.0   \n",
              "56     57   57      Aarav       Weiss     12  944.0              5.0   \n",
              "74     75   75      Bilal       Cooke     12  942.0              5.0   \n",
              "76     77   77      Annie       Gibbs     12  944.0              5.0   \n",
              "85     86   86      Elmer     Spencer     12  936.0              5.0   \n",
              "99    100  100  Sebastien      Vargas     12  940.0              5.0   \n",
              "101   102  102     Philip        Lowe     12  941.0              5.0   \n",
              "131   132  132      Darcy      Blaese     11  930.0              5.0   \n",
              "144   145  145    Katelyn      Mccann     11  944.0              5.0   \n",
              "146   147  147      Luisa        Barr     11  937.0              5.0   \n",
              "170   171  171   Leighton        Pope     11  938.0              5.0   \n",
              "229   230  230   Wojciech  Livingston     12  932.0              5.0   \n",
              "289   290  290       Eesa    Richmond     10  942.0              5.0   \n",
              "290   291  291       Levi      Sutton     10  938.0              5.0   \n",
              "330   331  331    Bernard    Marshall     11  940.0              5.0   \n",
              "453   454  454     Lyndon      Foster      9  942.0              5.0   \n",
              "490   491  491      Chaya      Guerra     11  937.0              5.0   \n",
              "551   552  552      Woody       Ellis     11  929.0              5.0   \n",
              "\n",
              "    ELAR -Text Analysis and Synthesis  \\\n",
              "2                          3-Advanced   \n",
              "3                          3-Advanced   \n",
              "26                         3-Advanced   \n",
              "38                         3-Advanced   \n",
              "56                         3-Advanced   \n",
              "74                         3-Advanced   \n",
              "76                         3-Advanced   \n",
              "85                         3-Advanced   \n",
              "99                         3-Advanced   \n",
              "101                        3-Advanced   \n",
              "131                        3-Advanced   \n",
              "144                        3-Advanced   \n",
              "146                        3-Advanced   \n",
              "170                        3-Advanced   \n",
              "229                        3-Advanced   \n",
              "289                        3-Advanced   \n",
              "290                        3-Advanced   \n",
              "330                        3-Advanced   \n",
              "453                        3-Advanced   \n",
              "490                        3-Advanced   \n",
              "551                        3-Advanced   \n",
              "\n",
              "    ELAR - Content Revision and Editing for Conventions.  Essay   Math  \\\n",
              "2                                           3-Advanced      5.0  953.0   \n",
              "3                                         2-Proficient      5.0  950.0   \n",
              "26                                          3-Advanced      5.0  940.0   \n",
              "38                                        2-Proficient      6.0  944.0   \n",
              "56                                          3-Advanced      7.0  953.0   \n",
              "74                                          3-Advanced      5.0  957.0   \n",
              "76                                        2-Proficient      5.0  949.0   \n",
              "85                                          3-Advanced      5.0  950.0   \n",
              "99                                          3-Advanced      4.0  948.0   \n",
              "101                                         3-Advanced      6.0  957.0   \n",
              "131                                         3-Advanced      4.0  917.0   \n",
              "144                                         3-Advanced      6.0  950.0   \n",
              "146                                       2-Proficient      4.0  927.0   \n",
              "170                                       2-Proficient      5.0  962.0   \n",
              "229                                         3-Advanced      6.0  952.0   \n",
              "289                                         3-Advanced      4.0  949.0   \n",
              "290                                       2-Proficient      5.0    NaN   \n",
              "330                                         3-Advanced      5.0  954.0   \n",
              "453                                         3-Advanced      5.0  922.0   \n",
              "490                                         3-Advanced      4.0  952.0   \n",
              "551                                         3-Advanced      6.0  930.0   \n",
              "\n",
              "     Math Diagnostic Math - Quantitative Reasoning Math - Algebraic Reasoning  \\\n",
              "2                NaN                           NaN                        NaN   \n",
              "3                4.0                       1-Basic                    1-Basic   \n",
              "26               4.0                  2-Proficient                    1-Basic   \n",
              "38               6.0                  2-Proficient                    1-Basic   \n",
              "56               4.0                       1-Basic                    1-Basic   \n",
              "74               5.0                  2-Proficient               2-Proficient   \n",
              "76               5.0                       1-Basic                    1-Basic   \n",
              "85               NaN                           NaN                        NaN   \n",
              "99               4.0                  2-Proficient               2-Proficient   \n",
              "101              NaN                           NaN                        NaN   \n",
              "131              2.0                       1-Basic                    1-Basic   \n",
              "144              4.0                       1-Basic                    1-Basic   \n",
              "146              3.0                       1-Basic                    1-Basic   \n",
              "170              4.0                  2-Proficient                    1-Basic   \n",
              "229              4.0                       1-Basic               2-Proficient   \n",
              "289              4.0                       1-Basic                    1-Basic   \n",
              "290              NaN                           NaN                        NaN   \n",
              "330              NaN                           NaN                        NaN   \n",
              "453              2.0                       1-Basic                    1-Basic   \n",
              "490              4.0                       1-Basic                    1-Basic   \n",
              "551              3.0                       1-Basic                    1-Basic   \n",
              "\n",
              "    Math - Geometric and Spatial Reasoning  \\\n",
              "2                                      NaN   \n",
              "3                                  1-Basic   \n",
              "26                                 1-Basic   \n",
              "38                            2-Proficient   \n",
              "56                            2-Proficient   \n",
              "74                            2-Proficient   \n",
              "76                            2-Proficient   \n",
              "85                                     NaN   \n",
              "99                            2-Proficient   \n",
              "101                                    NaN   \n",
              "131                                1-Basic   \n",
              "144                           2-Proficient   \n",
              "146                                1-Basic   \n",
              "170                                1-Basic   \n",
              "229                                1-Basic   \n",
              "289                                1-Basic   \n",
              "290                                    NaN   \n",
              "330                                    NaN   \n",
              "453                                1-Basic   \n",
              "490                           2-Proficient   \n",
              "551                                1-Basic   \n",
              "\n",
              "    Math - Probabilistic and Statistical Reasoning  \n",
              "2                                              NaN  \n",
              "3                                          1-Basic  \n",
              "26                                    2-Proficient  \n",
              "38                                    2-Proficient  \n",
              "56                                    2-Proficient  \n",
              "74                                    2-Proficient  \n",
              "76                                    2-Proficient  \n",
              "85                                             NaN  \n",
              "99                                         1-Basic  \n",
              "101                                            NaN  \n",
              "131                                        1-Basic  \n",
              "144                                        1-Basic  \n",
              "146                                        1-Basic  \n",
              "170                                        1-Basic  \n",
              "229                                        1-Basic  \n",
              "289                                        1-Basic  \n",
              "290                                            NaN  \n",
              "330                                            NaN  \n",
              "453                                        1-Basic  \n",
              "490                                        1-Basic  \n",
              "551                                        1-Basic  "
            ],
            "text/html": [
              "\n",
              "  <div id=\"df-cb1be905-fc26-4af5-b948-85e936099e30\" class=\"colab-df-container\">\n",
              "    <div>\n",
              "<style scoped>\n",
              "    .dataframe tbody tr th:only-of-type {\n",
              "        vertical-align: middle;\n",
              "    }\n",
              "\n",
              "    .dataframe tbody tr th {\n",
              "        vertical-align: top;\n",
              "    }\n",
              "\n",
              "    .dataframe thead th {\n",
              "        text-align: right;\n",
              "    }\n",
              "</style>\n",
              "<table border=\"1\" class=\"dataframe\">\n",
              "  <thead>\n",
              "    <tr style=\"text-align: right;\">\n",
              "      <th></th>\n",
              "      <th>SR ID</th>\n",
              "      <th>TSDS</th>\n",
              "      <th>First</th>\n",
              "      <th>Last</th>\n",
              "      <th>Grade</th>\n",
              "      <th>ELAR</th>\n",
              "      <th>ELAR Diagnostic</th>\n",
              "      <th>ELAR -Text Analysis and Synthesis</th>\n",
              "      <th>ELAR - Content Revision and Editing for Conventions.</th>\n",
              "      <th>Essay</th>\n",
              "      <th>Math</th>\n",
              "      <th>Math Diagnostic</th>\n",
              "      <th>Math - Quantitative Reasoning</th>\n",
              "      <th>Math - Algebraic Reasoning</th>\n",
              "      <th>Math - Geometric and Spatial Reasoning</th>\n",
              "      <th>Math - Probabilistic and Statistical Reasoning</th>\n",
              "    </tr>\n",
              "  </thead>\n",
              "  <tbody>\n",
              "    <tr>\n",
              "      <th>2</th>\n",
              "      <td>3</td>\n",
              "      <td>3</td>\n",
              "      <td>Victor</td>\n",
              "      <td>Ingram</td>\n",
              "      <td>12</td>\n",
              "      <td>944.0</td>\n",
              "      <td>5.0</td>\n",
              "      <td>3-Advanced</td>\n",
              "      <td>3-Advanced</td>\n",
              "      <td>5.0</td>\n",
              "      <td>953.0</td>\n",
              "      <td>NaN</td>\n",
              "      <td>NaN</td>\n",
              "      <td>NaN</td>\n",
              "      <td>NaN</td>\n",
              "      <td>NaN</td>\n",
              "    </tr>\n",
              "    <tr>\n",
              "      <th>3</th>\n",
              "      <td>4</td>\n",
              "      <td>4</td>\n",
              "      <td>Halima</td>\n",
              "      <td>Cervantes</td>\n",
              "      <td>12</td>\n",
              "      <td>940.0</td>\n",
              "      <td>5.0</td>\n",
              "      <td>3-Advanced</td>\n",
              "      <td>2-Proficient</td>\n",
              "      <td>5.0</td>\n",
              "      <td>950.0</td>\n",
              "      <td>4.0</td>\n",
              "      <td>1-Basic</td>\n",
              "      <td>1-Basic</td>\n",
              "      <td>1-Basic</td>\n",
              "      <td>1-Basic</td>\n",
              "    </tr>\n",
              "    <tr>\n",
              "      <th>26</th>\n",
              "      <td>27</td>\n",
              "      <td>27</td>\n",
              "      <td>Leyton</td>\n",
              "      <td>Raymond</td>\n",
              "      <td>12</td>\n",
              "      <td>943.0</td>\n",
              "      <td>5.0</td>\n",
              "      <td>3-Advanced</td>\n",
              "      <td>3-Advanced</td>\n",
              "      <td>5.0</td>\n",
              "      <td>940.0</td>\n",
              "      <td>4.0</td>\n",
              "      <td>2-Proficient</td>\n",
              "      <td>1-Basic</td>\n",
              "      <td>1-Basic</td>\n",
              "      <td>2-Proficient</td>\n",
              "    </tr>\n",
              "    <tr>\n",
              "      <th>38</th>\n",
              "      <td>39</td>\n",
              "      <td>39</td>\n",
              "      <td>Allan</td>\n",
              "      <td>Shields</td>\n",
              "      <td>12</td>\n",
              "      <td>943.0</td>\n",
              "      <td>5.0</td>\n",
              "      <td>3-Advanced</td>\n",
              "      <td>2-Proficient</td>\n",
              "      <td>6.0</td>\n",
              "      <td>944.0</td>\n",
              "      <td>6.0</td>\n",
              "      <td>2-Proficient</td>\n",
              "      <td>1-Basic</td>\n",
              "      <td>2-Proficient</td>\n",
              "      <td>2-Proficient</td>\n",
              "    </tr>\n",
              "    <tr>\n",
              "      <th>56</th>\n",
              "      <td>57</td>\n",
              "      <td>57</td>\n",
              "      <td>Aarav</td>\n",
              "      <td>Weiss</td>\n",
              "      <td>12</td>\n",
              "      <td>944.0</td>\n",
              "      <td>5.0</td>\n",
              "      <td>3-Advanced</td>\n",
              "      <td>3-Advanced</td>\n",
              "      <td>7.0</td>\n",
              "      <td>953.0</td>\n",
              "      <td>4.0</td>\n",
              "      <td>1-Basic</td>\n",
              "      <td>1-Basic</td>\n",
              "      <td>2-Proficient</td>\n",
              "      <td>2-Proficient</td>\n",
              "    </tr>\n",
              "    <tr>\n",
              "      <th>74</th>\n",
              "      <td>75</td>\n",
              "      <td>75</td>\n",
              "      <td>Bilal</td>\n",
              "      <td>Cooke</td>\n",
              "      <td>12</td>\n",
              "      <td>942.0</td>\n",
              "      <td>5.0</td>\n",
              "      <td>3-Advanced</td>\n",
              "      <td>3-Advanced</td>\n",
              "      <td>5.0</td>\n",
              "      <td>957.0</td>\n",
              "      <td>5.0</td>\n",
              "      <td>2-Proficient</td>\n",
              "      <td>2-Proficient</td>\n",
              "      <td>2-Proficient</td>\n",
              "      <td>2-Proficient</td>\n",
              "    </tr>\n",
              "    <tr>\n",
              "      <th>76</th>\n",
              "      <td>77</td>\n",
              "      <td>77</td>\n",
              "      <td>Annie</td>\n",
              "      <td>Gibbs</td>\n",
              "      <td>12</td>\n",
              "      <td>944.0</td>\n",
              "      <td>5.0</td>\n",
              "      <td>3-Advanced</td>\n",
              "      <td>2-Proficient</td>\n",
              "      <td>5.0</td>\n",
              "      <td>949.0</td>\n",
              "      <td>5.0</td>\n",
              "      <td>1-Basic</td>\n",
              "      <td>1-Basic</td>\n",
              "      <td>2-Proficient</td>\n",
              "      <td>2-Proficient</td>\n",
              "    </tr>\n",
              "    <tr>\n",
              "      <th>85</th>\n",
              "      <td>86</td>\n",
              "      <td>86</td>\n",
              "      <td>Elmer</td>\n",
              "      <td>Spencer</td>\n",
              "      <td>12</td>\n",
              "      <td>936.0</td>\n",
              "      <td>5.0</td>\n",
              "      <td>3-Advanced</td>\n",
              "      <td>3-Advanced</td>\n",
              "      <td>5.0</td>\n",
              "      <td>950.0</td>\n",
              "      <td>NaN</td>\n",
              "      <td>NaN</td>\n",
              "      <td>NaN</td>\n",
              "      <td>NaN</td>\n",
              "      <td>NaN</td>\n",
              "    </tr>\n",
              "    <tr>\n",
              "      <th>99</th>\n",
              "      <td>100</td>\n",
              "      <td>100</td>\n",
              "      <td>Sebastien</td>\n",
              "      <td>Vargas</td>\n",
              "      <td>12</td>\n",
              "      <td>940.0</td>\n",
              "      <td>5.0</td>\n",
              "      <td>3-Advanced</td>\n",
              "      <td>3-Advanced</td>\n",
              "      <td>4.0</td>\n",
              "      <td>948.0</td>\n",
              "      <td>4.0</td>\n",
              "      <td>2-Proficient</td>\n",
              "      <td>2-Proficient</td>\n",
              "      <td>2-Proficient</td>\n",
              "      <td>1-Basic</td>\n",
              "    </tr>\n",
              "    <tr>\n",
              "      <th>101</th>\n",
              "      <td>102</td>\n",
              "      <td>102</td>\n",
              "      <td>Philip</td>\n",
              "      <td>Lowe</td>\n",
              "      <td>12</td>\n",
              "      <td>941.0</td>\n",
              "      <td>5.0</td>\n",
              "      <td>3-Advanced</td>\n",
              "      <td>3-Advanced</td>\n",
              "      <td>6.0</td>\n",
              "      <td>957.0</td>\n",
              "      <td>NaN</td>\n",
              "      <td>NaN</td>\n",
              "      <td>NaN</td>\n",
              "      <td>NaN</td>\n",
              "      <td>NaN</td>\n",
              "    </tr>\n",
              "    <tr>\n",
              "      <th>131</th>\n",
              "      <td>132</td>\n",
              "      <td>132</td>\n",
              "      <td>Darcy</td>\n",
              "      <td>Blaese</td>\n",
              "      <td>11</td>\n",
              "      <td>930.0</td>\n",
              "      <td>5.0</td>\n",
              "      <td>3-Advanced</td>\n",
              "      <td>3-Advanced</td>\n",
              "      <td>4.0</td>\n",
              "      <td>917.0</td>\n",
              "      <td>2.0</td>\n",
              "      <td>1-Basic</td>\n",
              "      <td>1-Basic</td>\n",
              "      <td>1-Basic</td>\n",
              "      <td>1-Basic</td>\n",
              "    </tr>\n",
              "    <tr>\n",
              "      <th>144</th>\n",
              "      <td>145</td>\n",
              "      <td>145</td>\n",
              "      <td>Katelyn</td>\n",
              "      <td>Mccann</td>\n",
              "      <td>11</td>\n",
              "      <td>944.0</td>\n",
              "      <td>5.0</td>\n",
              "      <td>3-Advanced</td>\n",
              "      <td>3-Advanced</td>\n",
              "      <td>6.0</td>\n",
              "      <td>950.0</td>\n",
              "      <td>4.0</td>\n",
              "      <td>1-Basic</td>\n",
              "      <td>1-Basic</td>\n",
              "      <td>2-Proficient</td>\n",
              "      <td>1-Basic</td>\n",
              "    </tr>\n",
              "    <tr>\n",
              "      <th>146</th>\n",
              "      <td>147</td>\n",
              "      <td>147</td>\n",
              "      <td>Luisa</td>\n",
              "      <td>Barr</td>\n",
              "      <td>11</td>\n",
              "      <td>937.0</td>\n",
              "      <td>5.0</td>\n",
              "      <td>3-Advanced</td>\n",
              "      <td>2-Proficient</td>\n",
              "      <td>4.0</td>\n",
              "      <td>927.0</td>\n",
              "      <td>3.0</td>\n",
              "      <td>1-Basic</td>\n",
              "      <td>1-Basic</td>\n",
              "      <td>1-Basic</td>\n",
              "      <td>1-Basic</td>\n",
              "    </tr>\n",
              "    <tr>\n",
              "      <th>170</th>\n",
              "      <td>171</td>\n",
              "      <td>171</td>\n",
              "      <td>Leighton</td>\n",
              "      <td>Pope</td>\n",
              "      <td>11</td>\n",
              "      <td>938.0</td>\n",
              "      <td>5.0</td>\n",
              "      <td>3-Advanced</td>\n",
              "      <td>2-Proficient</td>\n",
              "      <td>5.0</td>\n",
              "      <td>962.0</td>\n",
              "      <td>4.0</td>\n",
              "      <td>2-Proficient</td>\n",
              "      <td>1-Basic</td>\n",
              "      <td>1-Basic</td>\n",
              "      <td>1-Basic</td>\n",
              "    </tr>\n",
              "    <tr>\n",
              "      <th>229</th>\n",
              "      <td>230</td>\n",
              "      <td>230</td>\n",
              "      <td>Wojciech</td>\n",
              "      <td>Livingston</td>\n",
              "      <td>12</td>\n",
              "      <td>932.0</td>\n",
              "      <td>5.0</td>\n",
              "      <td>3-Advanced</td>\n",
              "      <td>3-Advanced</td>\n",
              "      <td>6.0</td>\n",
              "      <td>952.0</td>\n",
              "      <td>4.0</td>\n",
              "      <td>1-Basic</td>\n",
              "      <td>2-Proficient</td>\n",
              "      <td>1-Basic</td>\n",
              "      <td>1-Basic</td>\n",
              "    </tr>\n",
              "    <tr>\n",
              "      <th>289</th>\n",
              "      <td>290</td>\n",
              "      <td>290</td>\n",
              "      <td>Eesa</td>\n",
              "      <td>Richmond</td>\n",
              "      <td>10</td>\n",
              "      <td>942.0</td>\n",
              "      <td>5.0</td>\n",
              "      <td>3-Advanced</td>\n",
              "      <td>3-Advanced</td>\n",
              "      <td>4.0</td>\n",
              "      <td>949.0</td>\n",
              "      <td>4.0</td>\n",
              "      <td>1-Basic</td>\n",
              "      <td>1-Basic</td>\n",
              "      <td>1-Basic</td>\n",
              "      <td>1-Basic</td>\n",
              "    </tr>\n",
              "    <tr>\n",
              "      <th>290</th>\n",
              "      <td>291</td>\n",
              "      <td>291</td>\n",
              "      <td>Levi</td>\n",
              "      <td>Sutton</td>\n",
              "      <td>10</td>\n",
              "      <td>938.0</td>\n",
              "      <td>5.0</td>\n",
              "      <td>3-Advanced</td>\n",
              "      <td>2-Proficient</td>\n",
              "      <td>5.0</td>\n",
              "      <td>NaN</td>\n",
              "      <td>NaN</td>\n",
              "      <td>NaN</td>\n",
              "      <td>NaN</td>\n",
              "      <td>NaN</td>\n",
              "      <td>NaN</td>\n",
              "    </tr>\n",
              "    <tr>\n",
              "      <th>330</th>\n",
              "      <td>331</td>\n",
              "      <td>331</td>\n",
              "      <td>Bernard</td>\n",
              "      <td>Marshall</td>\n",
              "      <td>11</td>\n",
              "      <td>940.0</td>\n",
              "      <td>5.0</td>\n",
              "      <td>3-Advanced</td>\n",
              "      <td>3-Advanced</td>\n",
              "      <td>5.0</td>\n",
              "      <td>954.0</td>\n",
              "      <td>NaN</td>\n",
              "      <td>NaN</td>\n",
              "      <td>NaN</td>\n",
              "      <td>NaN</td>\n",
              "      <td>NaN</td>\n",
              "    </tr>\n",
              "    <tr>\n",
              "      <th>453</th>\n",
              "      <td>454</td>\n",
              "      <td>454</td>\n",
              "      <td>Lyndon</td>\n",
              "      <td>Foster</td>\n",
              "      <td>9</td>\n",
              "      <td>942.0</td>\n",
              "      <td>5.0</td>\n",
              "      <td>3-Advanced</td>\n",
              "      <td>3-Advanced</td>\n",
              "      <td>5.0</td>\n",
              "      <td>922.0</td>\n",
              "      <td>2.0</td>\n",
              "      <td>1-Basic</td>\n",
              "      <td>1-Basic</td>\n",
              "      <td>1-Basic</td>\n",
              "      <td>1-Basic</td>\n",
              "    </tr>\n",
              "    <tr>\n",
              "      <th>490</th>\n",
              "      <td>491</td>\n",
              "      <td>491</td>\n",
              "      <td>Chaya</td>\n",
              "      <td>Guerra</td>\n",
              "      <td>11</td>\n",
              "      <td>937.0</td>\n",
              "      <td>5.0</td>\n",
              "      <td>3-Advanced</td>\n",
              "      <td>3-Advanced</td>\n",
              "      <td>4.0</td>\n",
              "      <td>952.0</td>\n",
              "      <td>4.0</td>\n",
              "      <td>1-Basic</td>\n",
              "      <td>1-Basic</td>\n",
              "      <td>2-Proficient</td>\n",
              "      <td>1-Basic</td>\n",
              "    </tr>\n",
              "    <tr>\n",
              "      <th>551</th>\n",
              "      <td>552</td>\n",
              "      <td>552</td>\n",
              "      <td>Woody</td>\n",
              "      <td>Ellis</td>\n",
              "      <td>11</td>\n",
              "      <td>929.0</td>\n",
              "      <td>5.0</td>\n",
              "      <td>3-Advanced</td>\n",
              "      <td>3-Advanced</td>\n",
              "      <td>6.0</td>\n",
              "      <td>930.0</td>\n",
              "      <td>3.0</td>\n",
              "      <td>1-Basic</td>\n",
              "      <td>1-Basic</td>\n",
              "      <td>1-Basic</td>\n",
              "      <td>1-Basic</td>\n",
              "    </tr>\n",
              "  </tbody>\n",
              "</table>\n",
              "</div>\n",
              "    <div class=\"colab-df-buttons\">\n",
              "\n",
              "  <div class=\"colab-df-container\">\n",
              "    <button class=\"colab-df-convert\" onclick=\"convertToInteractive('df-cb1be905-fc26-4af5-b948-85e936099e30')\"\n",
              "            title=\"Convert this dataframe to an interactive table.\"\n",
              "            style=\"display:none;\">\n",
              "\n",
              "  <svg xmlns=\"http://www.w3.org/2000/svg\" height=\"24px\" viewBox=\"0 -960 960 960\">\n",
              "    <path d=\"M120-120v-720h720v720H120Zm60-500h600v-160H180v160Zm220 220h160v-160H400v160Zm0 220h160v-160H400v160ZM180-400h160v-160H180v160Zm440 0h160v-160H620v160ZM180-180h160v-160H180v160Zm440 0h160v-160H620v160Z\"/>\n",
              "  </svg>\n",
              "    </button>\n",
              "\n",
              "  <style>\n",
              "    .colab-df-container {\n",
              "      display:flex;\n",
              "      gap: 12px;\n",
              "    }\n",
              "\n",
              "    .colab-df-convert {\n",
              "      background-color: #E8F0FE;\n",
              "      border: none;\n",
              "      border-radius: 50%;\n",
              "      cursor: pointer;\n",
              "      display: none;\n",
              "      fill: #1967D2;\n",
              "      height: 32px;\n",
              "      padding: 0 0 0 0;\n",
              "      width: 32px;\n",
              "    }\n",
              "\n",
              "    .colab-df-convert:hover {\n",
              "      background-color: #E2EBFA;\n",
              "      box-shadow: 0px 1px 2px rgba(60, 64, 67, 0.3), 0px 1px 3px 1px rgba(60, 64, 67, 0.15);\n",
              "      fill: #174EA6;\n",
              "    }\n",
              "\n",
              "    .colab-df-buttons div {\n",
              "      margin-bottom: 4px;\n",
              "    }\n",
              "\n",
              "    [theme=dark] .colab-df-convert {\n",
              "      background-color: #3B4455;\n",
              "      fill: #D2E3FC;\n",
              "    }\n",
              "\n",
              "    [theme=dark] .colab-df-convert:hover {\n",
              "      background-color: #434B5C;\n",
              "      box-shadow: 0px 1px 3px 1px rgba(0, 0, 0, 0.15);\n",
              "      filter: drop-shadow(0px 1px 2px rgba(0, 0, 0, 0.3));\n",
              "      fill: #FFFFFF;\n",
              "    }\n",
              "  </style>\n",
              "\n",
              "    <script>\n",
              "      const buttonEl =\n",
              "        document.querySelector('#df-cb1be905-fc26-4af5-b948-85e936099e30 button.colab-df-convert');\n",
              "      buttonEl.style.display =\n",
              "        google.colab.kernel.accessAllowed ? 'block' : 'none';\n",
              "\n",
              "      async function convertToInteractive(key) {\n",
              "        const element = document.querySelector('#df-cb1be905-fc26-4af5-b948-85e936099e30');\n",
              "        const dataTable =\n",
              "          await google.colab.kernel.invokeFunction('convertToInteractive',\n",
              "                                                    [key], {});\n",
              "        if (!dataTable) return;\n",
              "\n",
              "        const docLinkHtml = 'Like what you see? Visit the ' +\n",
              "          '<a target=\"_blank\" href=https://colab.research.google.com/notebooks/data_table.ipynb>data table notebook</a>'\n",
              "          + ' to learn more about interactive tables.';\n",
              "        element.innerHTML = '';\n",
              "        dataTable['output_type'] = 'display_data';\n",
              "        await google.colab.output.renderOutput(dataTable, element);\n",
              "        const docLink = document.createElement('div');\n",
              "        docLink.innerHTML = docLinkHtml;\n",
              "        element.appendChild(docLink);\n",
              "      }\n",
              "    </script>\n",
              "  </div>\n",
              "\n",
              "\n",
              "<div id=\"df-b4b567a5-bedd-4668-b225-cb471f666c1f\">\n",
              "  <button class=\"colab-df-quickchart\" onclick=\"quickchart('df-b4b567a5-bedd-4668-b225-cb471f666c1f')\"\n",
              "            title=\"Suggest charts\"\n",
              "            style=\"display:none;\">\n",
              "\n",
              "<svg xmlns=\"http://www.w3.org/2000/svg\" height=\"24px\"viewBox=\"0 0 24 24\"\n",
              "     width=\"24px\">\n",
              "    <g>\n",
              "        <path d=\"M19 3H5c-1.1 0-2 .9-2 2v14c0 1.1.9 2 2 2h14c1.1 0 2-.9 2-2V5c0-1.1-.9-2-2-2zM9 17H7v-7h2v7zm4 0h-2V7h2v10zm4 0h-2v-4h2v4z\"/>\n",
              "    </g>\n",
              "</svg>\n",
              "  </button>\n",
              "\n",
              "<style>\n",
              "  .colab-df-quickchart {\n",
              "      --bg-color: #E8F0FE;\n",
              "      --fill-color: #1967D2;\n",
              "      --hover-bg-color: #E2EBFA;\n",
              "      --hover-fill-color: #174EA6;\n",
              "      --disabled-fill-color: #AAA;\n",
              "      --disabled-bg-color: #DDD;\n",
              "  }\n",
              "\n",
              "  [theme=dark] .colab-df-quickchart {\n",
              "      --bg-color: #3B4455;\n",
              "      --fill-color: #D2E3FC;\n",
              "      --hover-bg-color: #434B5C;\n",
              "      --hover-fill-color: #FFFFFF;\n",
              "      --disabled-bg-color: #3B4455;\n",
              "      --disabled-fill-color: #666;\n",
              "  }\n",
              "\n",
              "  .colab-df-quickchart {\n",
              "    background-color: var(--bg-color);\n",
              "    border: none;\n",
              "    border-radius: 50%;\n",
              "    cursor: pointer;\n",
              "    display: none;\n",
              "    fill: var(--fill-color);\n",
              "    height: 32px;\n",
              "    padding: 0;\n",
              "    width: 32px;\n",
              "  }\n",
              "\n",
              "  .colab-df-quickchart:hover {\n",
              "    background-color: var(--hover-bg-color);\n",
              "    box-shadow: 0 1px 2px rgba(60, 64, 67, 0.3), 0 1px 3px 1px rgba(60, 64, 67, 0.15);\n",
              "    fill: var(--button-hover-fill-color);\n",
              "  }\n",
              "\n",
              "  .colab-df-quickchart-complete:disabled,\n",
              "  .colab-df-quickchart-complete:disabled:hover {\n",
              "    background-color: var(--disabled-bg-color);\n",
              "    fill: var(--disabled-fill-color);\n",
              "    box-shadow: none;\n",
              "  }\n",
              "\n",
              "  .colab-df-spinner {\n",
              "    border: 2px solid var(--fill-color);\n",
              "    border-color: transparent;\n",
              "    border-bottom-color: var(--fill-color);\n",
              "    animation:\n",
              "      spin 1s steps(1) infinite;\n",
              "  }\n",
              "\n",
              "  @keyframes spin {\n",
              "    0% {\n",
              "      border-color: transparent;\n",
              "      border-bottom-color: var(--fill-color);\n",
              "      border-left-color: var(--fill-color);\n",
              "    }\n",
              "    20% {\n",
              "      border-color: transparent;\n",
              "      border-left-color: var(--fill-color);\n",
              "      border-top-color: var(--fill-color);\n",
              "    }\n",
              "    30% {\n",
              "      border-color: transparent;\n",
              "      border-left-color: var(--fill-color);\n",
              "      border-top-color: var(--fill-color);\n",
              "      border-right-color: var(--fill-color);\n",
              "    }\n",
              "    40% {\n",
              "      border-color: transparent;\n",
              "      border-right-color: var(--fill-color);\n",
              "      border-top-color: var(--fill-color);\n",
              "    }\n",
              "    60% {\n",
              "      border-color: transparent;\n",
              "      border-right-color: var(--fill-color);\n",
              "    }\n",
              "    80% {\n",
              "      border-color: transparent;\n",
              "      border-right-color: var(--fill-color);\n",
              "      border-bottom-color: var(--fill-color);\n",
              "    }\n",
              "    90% {\n",
              "      border-color: transparent;\n",
              "      border-bottom-color: var(--fill-color);\n",
              "    }\n",
              "  }\n",
              "</style>\n",
              "\n",
              "  <script>\n",
              "    async function quickchart(key) {\n",
              "      const quickchartButtonEl =\n",
              "        document.querySelector('#' + key + ' button');\n",
              "      quickchartButtonEl.disabled = true;  // To prevent multiple clicks.\n",
              "      quickchartButtonEl.classList.add('colab-df-spinner');\n",
              "      try {\n",
              "        const charts = await google.colab.kernel.invokeFunction(\n",
              "            'suggestCharts', [key], {});\n",
              "      } catch (error) {\n",
              "        console.error('Error during call to suggestCharts:', error);\n",
              "      }\n",
              "      quickchartButtonEl.classList.remove('colab-df-spinner');\n",
              "      quickchartButtonEl.classList.add('colab-df-quickchart-complete');\n",
              "    }\n",
              "    (() => {\n",
              "      let quickchartButtonEl =\n",
              "        document.querySelector('#df-b4b567a5-bedd-4668-b225-cb471f666c1f button');\n",
              "      quickchartButtonEl.style.display =\n",
              "        google.colab.kernel.accessAllowed ? 'block' : 'none';\n",
              "    })();\n",
              "  </script>\n",
              "</div>\n",
              "    </div>\n",
              "  </div>\n"
            ]
          },
          "metadata": {},
          "execution_count": 35
        }
      ]
    },
    {
      "cell_type": "markdown",
      "source": [
        "**Observations:**\n",
        "* There are 21 scholars who passed ELAR by the diagnostic test.\n",
        "* Most of the scores on the objective are Advance with a few at Proficient.\n",
        "* There are no scores of Basic."
      ],
      "metadata": {
        "id": "FtEF3y1Uyrvt"
      }
    },
    {
      "cell_type": "markdown",
      "source": [
        "**ELAR Scores by Grade**"
      ],
      "metadata": {
        "id": "Y1tOA3L47K7W"
      }
    },
    {
      "cell_type": "code",
      "source": [
        "#Creates a Grid for ELAR Scores\n",
        "ELARScoresByGrade = sns.FacetGrid(df, col=\"Grade\")\n",
        "\n",
        "#Creates Plots\n",
        "ELARScoresByGrade.map(\n",
        "    sns.histplot, \"ELAR\",\n",
        "    binwidth = 5,\n",
        "    binrange = (910, 990) )\n",
        "\n",
        "#Titles Figure\n",
        "ELARScoresByGrade.fig.suptitle(\"ELAR Scores by Grade Level\")\n",
        "\n",
        "#Adjust size\n",
        "plt.subplots_adjust(top=.84)\n",
        "\n",
        "#Titles plots\n",
        "ELARScoresByGrade.axes.flatten()[0].set_title(\"9th Grade\")\n",
        "ELARScoresByGrade.axes.flatten()[1].set_title(\"10th Grade\")\n",
        "ELARScoresByGrade.axes.flatten()[2].set_title(\"11th Grade\")\n",
        "ELARScoresByGrade.axes.flatten()[3].set_title(\"12th Grade\")\n",
        "\n",
        "#Highlight passing scores\n",
        "ELARScoresByGrade.axes.flatten()[0].axvspan(945, 990, color = 'green', alpha = 0.2)\n",
        "ELARScoresByGrade.axes.flatten()[1].axvspan(945, 990, color = 'green', alpha = 0.2)\n",
        "ELARScoresByGrade.axes.flatten()[2].axvspan(945, 990, color = 'green', alpha = 0.2)\n",
        "ELARScoresByGrade.axes.flatten()[3].axvspan(945, 990, color = 'green', alpha = 0.2);"
      ],
      "metadata": {
        "colab": {
          "base_uri": "https://localhost:8080/",
          "height": 232
        },
        "id": "LhQtoq-Xeslq",
        "outputId": "3a2c7765-8622-4abc-f2d5-240bd75f0363"
      },
      "execution_count": null,
      "outputs": [
        {
          "output_type": "display_data",
          "data": {
            "text/plain": [
              "<Figure size 1200x300 with 4 Axes>"
            ],
            "image/png": "[encoded data removed]"
          },
          "metadata": {}
        }
      ]
    },
    {
      "cell_type": "markdown",
      "source": [
        "### c) Essay Scores Distrabutions"
      ],
      "metadata": {
        "id": "0-wV8R7S6VpV"
      }
    },
    {
      "cell_type": "markdown",
      "source": [
        "**Essay Score**"
      ],
      "metadata": {
        "id": "Th8qj1bx7PMR"
      }
    },
    {
      "cell_type": "code",
      "source": [
        "#Essay Scores for everyone, Green area is a passing score.\n",
        "sns.histplot(\n",
        "    data=df,\n",
        "    x='Essay',\n",
        "    binwidth=1,\n",
        "    binrange=(-.5, 8.5)\n",
        "      ).set_xticks(np.arange(0, 9))\n",
        "\n",
        "#Titles Plot\n",
        "plt.title(\"Essay Scores\")\n",
        "\n",
        "#Highlights Passing Scores\n",
        "plt.axvspan(4.5, 8.5, color = 'green', alpha = 0.2);"
      ],
      "metadata": {
        "colab": {
          "base_uri": "https://localhost:8080/",
          "height": 472
        },
        "id": "RLCMLjoBTV3a",
        "outputId": "d6613991-f22c-4d34-a5ec-371b83c2c1ee"
      },
      "execution_count": null,
      "outputs": [
        {
          "output_type": "display_data",
          "data": {
            "text/plain": [
              "<Figure size 640x480 with 1 Axes>"
            ],
            "image/png": "[encoded data removed]"
          },
          "metadata": {}
        }
      ]
    },
    {
      "cell_type": "markdown",
      "source": [
        "**Essay Score by Grade**"
      ],
      "metadata": {
        "id": "0DQp3xcJ7R3O"
      }
    },
    {
      "cell_type": "code",
      "source": [
        "#Creates Grid for Essay Scores by Grade\n",
        "essayScoresByGrade = sns.FacetGrid(df, col=\"Grade\")\n",
        "\n",
        "#Creates Plots\n",
        "essayScoresByGrade.map(\n",
        "    sns.histplot, \"Essay\",\n",
        "    binwidth = 1,\n",
        "    binrange = (-.5, 8.5))\n",
        "\n",
        "#Titles Figure\n",
        "essayScoresByGrade.fig.suptitle(\"Essay Scores by Grade Level\")\n",
        "\n",
        "#Adjust sizing\n",
        "plt.subplots_adjust(top=.84)\n",
        "\n",
        "#Labels Plots\n",
        "essayScoresByGrade.axes.flatten()[0].set_title(\"9th Grade\")\n",
        "essayScoresByGrade.axes.flatten()[1].set_title(\"10th Grade\")\n",
        "essayScoresByGrade.axes.flatten()[2].set_title(\"11th Grade\")\n",
        "essayScoresByGrade.axes.flatten()[3].set_title(\"12th Grade\");\n",
        "\n",
        "#Highlight Passing Scores\n",
        "essayScoresByGrade.axes.flatten()[0].axvspan(4.5, 8.5, color = 'green', alpha = 0.2);\n",
        "essayScoresByGrade.axes.flatten()[1].axvspan(4.5, 8.5, color = 'green', alpha = 0.2);\n",
        "essayScoresByGrade.axes.flatten()[2].axvspan(4.5, 8.5, color = 'green', alpha = 0.2);\n",
        "essayScoresByGrade.axes.flatten()[3].axvspan(4.5, 8.5, color = 'green', alpha = 0.2);"
      ],
      "metadata": {
        "colab": {
          "base_uri": "https://localhost:8080/",
          "height": 233
        },
        "id": "hn8JR8JNeyWf",
        "outputId": "5559b464-fd38-404b-ea7f-d7ab12cb1c04"
      },
      "execution_count": null,
      "outputs": [
        {
          "output_type": "display_data",
          "data": {
            "text/plain": [
              "<Figure size 1200x300 with 4 Axes>"
            ],
            "image/png": "[encoded data removed]"
          },
          "metadata": {}
        }
      ]
    },
    {
      "cell_type": "markdown",
      "source": [
        "## 7) Scores by Objective"
      ],
      "metadata": {
        "id": "jATGl7l7UbFu"
      }
    },
    {
      "cell_type": "markdown",
      "source": [
        "The goal for this section is to explore how scholars preformed on each individual area within the diagnostic tests."
      ],
      "metadata": {
        "id": "jY2Rq2I1qPGv"
      }
    },
    {
      "cell_type": "markdown",
      "source": [
        "### a) Math Objective Scores\n",
        "\n",
        "\n"
      ],
      "metadata": {
        "id": "laKKwCox6dOI"
      }
    },
    {
      "cell_type": "code",
      "source": [
        "#Creates Grid for Math Areas\n",
        "mathObjectiveFig, mathObjectiveAx = plt.subplots(2, 2)\n",
        "\n",
        "#Adjust Sizing\n",
        "mathObjectiveFig.set_figwidth(12)\n",
        "mathObjectiveFig.subplots_adjust(wspace=.5)\n",
        "\n",
        "#Creates Plots\n",
        "sns.countplot(data=df, y='Math - Quantitative Reasoning', ax=mathObjectiveAx[0, 0], order = ['1-Basic', '2-Proficient', '3-Advanced'])\n",
        "sns.countplot(data=df, y='Math - Algebraic Reasoning', ax=mathObjectiveAx[0, 1], order = ['1-Basic', '2-Proficient', '3-Advanced'])\n",
        "sns.countplot(data=df, y='Math - Geometric and Spatial Reasoning', ax=mathObjectiveAx[1, 0], order = ['1-Basic', '2-Proficient', '3-Advanced'])\n",
        "sns.countplot(data=df, y='Math - Probabilistic and Statistical Reasoning', ax=mathObjectiveAx[1, 1], order = ['1-Basic', '2-Proficient', '3-Advanced'])\n",
        "\n",
        "#Titles Figure\n",
        "mathObjectiveFig.suptitle('Math Area Scores from the Diagnostic')\n",
        "\n",
        "#Titles Plots\n",
        "mathObjectiveAx[0,0].set_ylabel('Quantative Reasoning')\n",
        "mathObjectiveAx[0,1].set_ylabel('Algebra')\n",
        "mathObjectiveAx[1,0].set_ylabel('Geometry')\n",
        "mathObjectiveAx[1,1].set_ylabel('Statistics');\n"
      ],
      "metadata": {
        "colab": {
          "base_uri": "https://localhost:8080/",
          "height": 405
        },
        "id": "l0pHhY81UdlZ",
        "outputId": "40a14507-7bff-4088-db95-da6e2abaeee8"
      },
      "execution_count": null,
      "outputs": [
        {
          "output_type": "display_data",
          "data": {
            "text/plain": [
              "<Figure size 1200x480 with 4 Axes>"
            ],
            "image/png": "[encoded data removed]"
          },
          "metadata": {}
        }
      ]
    },
    {
      "cell_type": "markdown",
      "source": [
        "**Observations**\n",
        "* All objectives have the vast majority of students scoring '1-Basic'.\n",
        "* Quantative Reasoning and Statistics are the only objectives with at least one scholar scoring '3-Advance'.\n",
        "* Algebra has the lowest count for scores of '2-Proficient'."
      ],
      "metadata": {
        "id": "n6LGi1Ti7amN"
      }
    },
    {
      "cell_type": "markdown",
      "source": [
        "In order to rank these objectives, we are going to focus on the percentage of scholars who scored a '1-Basic' on each area."
      ],
      "metadata": {
        "id": "bycVoBlw77zj"
      }
    },
    {
      "cell_type": "code",
      "source": [
        "#Percent of Basic Score on each area\n",
        "mathDiagnosticCount = len(df['Math Diagnostic'].dropna())\n",
        "\n",
        "#Percent of Basic score on Quantitative Reasoning\n",
        "QuantitativeBasicPercent = round(100*len(df.loc[df['Math - Quantitative Reasoning']=='1-Basic'])/mathDiagnosticCount,1)\n",
        "\n",
        "#Percent of Basic on Algebra\n",
        "AlgebraBasicPercent = round(100*len(df.loc[df['Math - Algebraic Reasoning']=='1-Basic'])/mathDiagnosticCount,1)\n",
        "\n",
        "#Percent of Basic on Geometry\n",
        "GeometryBasicPercent = round(100*len(df.loc[df['Math - Geometric and Spatial Reasoning']=='1-Basic'])/mathDiagnosticCount,1)\n",
        "\n",
        "#Percent of Basic on Stats\n",
        "StatsBasicPercent = round(100*len(df.loc[df['Math - Probabilistic and Statistical Reasoning']=='1-Basic'])/mathDiagnosticCount,1)\n",
        "\n",
        "#Prints Basic Percentages\n",
        "print(f'The percentage of scholars that scored basic on quantitative reasoning is {QuantitativeBasicPercent}%.')\n",
        "print(f'The percentage of scholars that scored basic on algebra is {AlgebraBasicPercent}%.')\n",
        "print(f'The percentage of scholars that scored basic on geometry is {GeometryBasicPercent}%.')\n",
        "print(f'The percentage of scholars that scored basic on statistics is {StatsBasicPercent}%.')"
      ],
      "metadata": {
        "id": "VWxCtAqKdf8c",
        "colab": {
          "base_uri": "https://localhost:8080/"
        },
        "outputId": "a0f53d59-b1cf-464f-c555-0b3bd51c1997"
      },
      "execution_count": null,
      "outputs": [
        {
          "output_type": "stream",
          "name": "stdout",
          "text": [
            "The percentage of scholars that scored basic on quantitative reasoning is 87.1%.\n",
            "The percentage of scholars that scored basic on algebra is 96.8%.\n",
            "The percentage of scholars that scored basic on geometry is 89.4%.\n",
            "The percentage of scholars that scored basic on statistics is 87.8%.\n"
          ]
        }
      ]
    },
    {
      "cell_type": "markdown",
      "source": [
        "### b) ELAR Objective Score"
      ],
      "metadata": {
        "id": "nlR-KJyD6iU_"
      }
    },
    {
      "cell_type": "code",
      "source": [
        "#Creates Grid for ELAR Diagnostic Areas\n",
        "ELARObjectivesFig, ELARObjectiveAx = plt.subplots(1, 2)\n",
        "\n",
        "#Adjust Sizing\n",
        "ELARObjectivesFig.set_figwidth(12)\n",
        "ELARObjectivesFig.subplots_adjust(wspace=.5)\n",
        "\n",
        "#Creates Plots\n",
        "sns.countplot(\n",
        "    data=df,\n",
        "    y='ELAR -Text Analysis and Synthesis',\n",
        "    ax=ELARObjectiveAx[0],\n",
        "    order = ['1-Basic', '2-Proficient', '3-Advanced'])\n",
        "sns.countplot(\n",
        "    data=df,\n",
        "    y='ELAR - Content Revision and Editing for Conventions.',\n",
        "    ax=ELARObjectiveAx[1],\n",
        "    order = ['1-Basic', '2-Proficient', '3-Advanced'])\n",
        "\n",
        "#Titles Figure\n",
        "ELARObjectivesFig.suptitle('ELAR Topic Scores from the Diagnostic')\n",
        "\n",
        "#Labels Plots\n",
        "ELARObjectiveAx[0].set_ylabel('Text Analysis and Synthesis')\n",
        "ELARObjectiveAx[1].set_ylabel('Revisions and Editing');"
      ],
      "metadata": {
        "colab": {
          "base_uri": "https://localhost:8080/",
          "height": 405
        },
        "id": "WDDEbZoYXpsb",
        "outputId": "2f94f3f2-9cf8-410c-dce1-912e07bc3fc0"
      },
      "execution_count": null,
      "outputs": [
        {
          "output_type": "display_data",
          "data": {
            "text/plain": [
              "<Figure size 1200x480 with 2 Axes>"
            ],
            "image/png": "[encoded data removed]"
          },
          "metadata": {}
        }
      ]
    },
    {
      "cell_type": "markdown",
      "source": [
        "In order to rank these objectives, we are going to focus on the percentage of scholars who scored a '1-Basic' on each area."
      ],
      "metadata": {
        "id": "wI9JO0Pn8P3U"
      }
    },
    {
      "cell_type": "code",
      "source": [
        "#Percent of Basic Score on each area\n",
        "ELARDiagnosticCount = len(df['ELAR Diagnostic'].dropna())\n",
        "\n",
        "#Percent of Basic score on Analysis Reasoning\n",
        "AnalysisBasicPercent = round(100*len(df.loc[df['ELAR -Text Analysis and Synthesis']=='1-Basic'])/ELARDiagnosticCount,1)\n",
        "\n",
        "#Percent of Basic on Algebra\n",
        "RevisionBasicPercent = round(100*len(df.loc[df['ELAR - Content Revision and Editing for Conventions.']=='1-Basic'])/ELARDiagnosticCount,1)\n",
        "\n",
        "#Prints Basic Percentages\n",
        "print(f'The percentage of scholars that scored basic on Text Analysis is {AnalysisBasicPercent}%.')\n",
        "print(f'The percentage of scholars that scored basic on algebra is {RevisionBasicPercent}%.')"
      ],
      "metadata": {
        "colab": {
          "base_uri": "https://localhost:8080/"
        },
        "id": "WqXlscsAzRTT",
        "outputId": "8d232652-cd27-42ec-9305-e32b6dcbe7d1"
      },
      "execution_count": null,
      "outputs": [
        {
          "output_type": "stream",
          "name": "stdout",
          "text": [
            "The percentage of scholars that scored basic on Text Analysis is 53.4%.\n",
            "The percentage of scholars that scored basic on algebra is 64.6%.\n"
          ]
        }
      ]
    },
    {
      "cell_type": "markdown",
      "source": [
        "## 8) Conclusion and Reccomendations"
      ],
      "metadata": {
        "id": "dt9vbsWkypW4"
      }
    },
    {
      "cell_type": "markdown",
      "source": [
        "### Conclusion\n",
        "\n",
        "---\n",
        "\n",
        "Our mission at Austin Achieve Public School is to prepare our scholars \"to attend and excel at top universities.\" An important part of this is making sure that our scholars are ready for college level courses which the TSIA2 is designed to determine if the scholars are \"college-ready.\" According to our current TSIA2 data, only 31.2% (45/144) of our seniors have passed the TSIA2.  There are 16 seniors who only need to pass the math section to be considered college-ready.  Our student are struggling the most with the math sections and are doing the best on the Essay section; howerver, there are 243 missing essay scores from all of the grade levels."
      ],
      "metadata": {
        "id": "tqW_Lo2W92oM"
      }
    },
    {
      "cell_type": "markdown",
      "source": [
        "### Recommendations\n",
        "\n",
        "---\n",
        " * The 42 scholars who are only need to pass math should take a math workshop in College Seminar and retake the Math exam\n",
        " * The seniors and juniors who are missing an Essay score should retake the essay section.\n",
        " * Scholars should test in shorter periods.  Only completed one test at a time.  Scholars who pass the first multible choice exam should be excused to a studyhall (This should increase the scores on the diagnostic).\n",
        " * We need an indepth look at our current math cirrculumn to see why it is not preparing scholars to become college ready.\n",
        " * We need a system to ensure that scholars are completing the essays."
      ],
      "metadata": {
        "id": "T-kOb7x6952t"
      }
    },
    {
      "cell_type": "code",
      "source": [
        "!jupyter nbconvert --to html TSIA2_AnalysisShareable.ipynb"
      ],
      "metadata": {
        "colab": {
          "base_uri": "https://localhost:8080/"
        },
        "id": "ARH0zapCs8hq",
        "outputId": "3d45ba44-316c-4403-919b-694eaa88e431"
      },
      "execution_count": null,
      "outputs": [
        {
          "output_type": "stream",
          "name": "stdout",
          "text": [
            "[NbConvertApp] Converting notebook TSIA2_AnalysisShareable.ipynb to html\n",
            "[NbConvertApp] Writing 1345530 bytes to TSIA2_AnalysisShareable.html\n"
          ]
        }
      ]
    }
  ]
}